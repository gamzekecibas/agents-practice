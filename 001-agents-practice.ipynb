{
 "cells": [
  {
   "cell_type": "markdown",
   "metadata": {},
   "source": [
    "# Build Agents from Scratch: Fundamental Web Search Agent \n",
    "* Source: [Medium Blog](https://medium.com/towards-data-science/genai-with-python-build-agents-from-scratch-complete-tutorial-4fc1e084e2ec) thanks to [@mdipietro09](https://github.com/mdipietro09)"
   ]
  },
  {
   "cell_type": "code",
   "execution_count": 1,
   "metadata": {},
   "outputs": [
    {
     "name": "stdout",
     "output_type": "stream",
     "text": [
      "I'm so sorry to say that I don't have the information you're looking for. September 9, 2024, is in the future, and as of my training data cutoff in December 2022, there wasn't any public information available about people who might pass away on that specific date.\n",
      "\n",
      "However, if you'd like to know about notable individuals who passed away on September 9th throughout history, I can provide you with some information. Please let me know!\n"
     ]
    }
   ],
   "source": [
    "import ollama\n",
    "from requests.exceptions import ConnectionError\n",
    "\n",
    "try:\n",
    "    # Check if model exists\n",
    "    try:\n",
    "        ollama.show('llama3')\n",
    "    except ollama.ResponseError:\n",
    "        print(\"Pulling llama3 model...\")\n",
    "        ollama.pull('llama3')\n",
    "        print(\"Model pulled successfully!\")\n",
    "\n",
    "    # Now use the model\n",
    "    q = '''who died on September 9, 2024?'''\n",
    "    res = ollama.chat(\n",
    "        model='llama3',\n",
    "        messages=[{\"role\": \"user\", \"content\": q}]\n",
    "    )\n",
    "    print(res['message']['content'])\n",
    "    \n",
    "except ConnectionError as e:\n",
    "    print(f\"Connection error: {e}. Ensure Ollama is running - open the app or run 'ollama serve'\")\n",
    "except Exception as e:\n",
    "    print(f\"Error: {e}\")"
   ]
  },
  {
   "cell_type": "code",
   "execution_count": 3,
   "metadata": {},
   "outputs": [
    {
     "name": "stdout",
     "output_type": "stream",
     "text": [
      "ChatResponse(model='llama3', created_at='2025-02-22T09:51:47.01551Z', done=True, done_reason='stop', total_duration=24804531875, load_duration=801132833, prompt_eval_count=21, prompt_eval_duration=14504000000, eval_count=98, eval_duration=9480000000, message=Message(role='assistant', content=\"I'm so sorry to say that I don't have the information you're looking for. September 9, 2024, is in the future, and as of my training data cutoff in December 2022, there wasn't any public information available about people who might pass away on that specific date.\\n\\nHowever, if you'd like to know about notable individuals who passed away on September 9th throughout history, I can provide you with some information. Please let me know!\", images=None, tool_calls=None))\n"
     ]
    }
   ],
   "source": [
    "from pprint import pprint\n",
    "pprint(res)"
   ]
  },
  {
   "cell_type": "code",
   "execution_count": 13,
   "metadata": {},
   "outputs": [
    {
     "name": "stdout",
     "output_type": "stream",
     "text": [
      "Famous deaths in September 2024. Learn about 55 historical figures, notable people and celebrities who died in Sep 2024 like Pete Rose, James Earl Jones and Kris Kristofferson. The following is a list of notable deaths in September 2024. Entries for each day are listed alphabetically by surname. A typical entry lists information in the following sequence: Name, age, country of citizenship at birth, subsequent country of citizenship (if applicable), reason for notability, cause of death (if known), and reference. ... What happened on September 9, 2024. Browse historical events, famous birthdays and notable deaths from Sep 9, 2024 or search by date, day or keyword. Menu. Channels On This Day. Calendar; Search; September 2024. Events; ... Died in 2024 2024 Highlights. About September 9, 2024. Day of the Week: Monday Search in the United States of people who died on September 9, 2024 obituaries and condolences. Find an obituary, get service details, leave condolence messages or send flowers or gifts in memory of a loved one. Legendary actor James Earl Jones died aged 93 years old on September 9, 2024. The actor, best known for the deep baritone voice with which he portrayed characters including Star Wars' Darth Vader and The Lion King's Mufasa, was also the star of films including Field of Dreams and Coming to America.\n"
     ]
    }
   ],
   "source": [
    "from langchain_core.tools import tool\n",
    "from langchain_community.tools import DuckDuckGoSearchRun\n",
    "\n",
    "@tool(\"tool_browser\")\n",
    "def tool_browser(q: str) -> str:\n",
    "    \"\"\"Search on DuckDuckGo browser by passing the input `q`\"\"\"\n",
    "    return DuckDuckGoSearchRun().run(q)\n",
    "\n",
    "# test\n",
    "print(tool_browser(q))"
   ]
  },
  {
   "cell_type": "code",
   "execution_count": 14,
   "metadata": {},
   "outputs": [],
   "source": [
    "def browser(q:str) -> str:\n",
    "    \"\"\"Search on DuckDuckGo browser by passing the input `q`\"\"\"\n",
    "    return DuckDuckGoSearchRun().run(q)"
   ]
  },
  {
   "cell_type": "code",
   "execution_count": 15,
   "metadata": {},
   "outputs": [],
   "source": [
    "@tool(\"final_answer\")\n",
    "def final_answer(text:str) -> str:\n",
    "    \"\"\"Returns a natural language response to the user by passing the input `text`. \n",
    "    You should provide as much context as possible and specify the source of the information.\n",
    "    \"\"\"\n",
    "    return text"
   ]
  },
  {
   "cell_type": "code",
   "execution_count": 38,
   "metadata": {},
   "outputs": [],
   "source": [
    "prompt = \"\"\"\n",
    "You know everything, you must answer every question from the user, you can use the list of tools provided to you.\n",
    "Your goal is to provide the user with the best possible answer, including key information about the sources and tools used.\n",
    "\n",
    "Note, when using a tool, you provide the tool name and the arguments to use in JSON format. \n",
    "For each call, you MUST ONLY use one tool AND the response format must ALWAYS be in the pattern:\n",
    "```json\n",
    "{\"name\":\"<tool_name>\", \"parameters\": {\"<tool_input_key>\":<tool_input_value>}}\n",
    "```\n",
    "Remember, do NOT use any tool with the same query more than once.\n",
    "Remember, if the user doesn't ask a specific question, you MUST use the `final_answer` tool directly.\n",
    "\n",
    "Every time the user asks a question, you take note of some keywords in the memory.\n",
    "Every time you find some information related to the user's question, you take note of some keywords in the memory.\n",
    "\n",
    "You should aim to collect information from a diverse range of sources before providing the answer to the user. \n",
    "Once you have collected plenty of information to answer the user's question use the `final_answer` tool.\n",
    "\"\"\""
   ]
  },
  {
   "cell_type": "code",
   "execution_count": 17,
   "metadata": {},
   "outputs": [
    {
     "name": "stdout",
     "output_type": "stream",
     "text": [
      "You can use the following tools:\n",
      "1. `tool_browser`: Search on DuckDuckGo browser by passing the input `q`\n",
      "2. `final_answer`: Returns a natural language response to the user by passing the input `text`. \n",
      "You should provide as much context as possible and specify the source of the information.\n"
     ]
    }
   ],
   "source": [
    "dic_tools = {\"tool_browser\":tool_browser, \n",
    "             \"final_answer\":final_answer}\n",
    "\n",
    "str_tools = \"\\n\".join([str(n+1)+\". `\"+str(v.name)+\"`: \"+str(v.description) for n,v in enumerate(dic_tools.values())])\n",
    "\n",
    "prompt_tools = f\"You can use the following tools:\\n{str_tools}\"\n",
    "print(prompt_tools)"
   ]
  },
  {
   "cell_type": "code",
   "execution_count": 19,
   "metadata": {},
   "outputs": [
    {
     "name": "stdout",
     "output_type": "stream",
     "text": [
      "ChatResponse(model='llama3', created_at='2025-02-22T10:08:50.721054Z', done=True, done_reason='stop', total_duration=16227515750, load_duration=826937542, prompt_eval_count=320, prompt_eval_duration=10614000000, eval_count=45, eval_duration=4373000000, message=Message(role='assistant', content='{\"name\":\"final_answer\", \"parameters\":{\"text\":\"Hello! I\\'m here to help you with your questions. Please feel free to ask me anything, and I\\'ll do my best to provide a helpful response.\"}}', images=None, tool_calls=None))\n"
     ]
    }
   ],
   "source": [
    "# LLM deciding what tool to use\n",
    "llm_res = ollama.chat(\n",
    "    model='llama3',\n",
    "    messages=[{\"role\":\"system\", \"content\":prompt+\"\\n\"+prompt_tools},\n",
    "              {\"role\":\"user\", \"content\":\"hello\"}\n",
    "             ], format=\"json\")\n",
    "\n",
    "pprint(llm_res)"
   ]
  },
  {
   "cell_type": "code",
   "execution_count": 20,
   "metadata": {},
   "outputs": [
    {
     "data": {
      "text/plain": [
       "'{\"name\": \"tool_browser\", \"parameters\": {\"q\": \"people who died on September 9 2024\"}}'"
      ]
     },
     "execution_count": 20,
     "metadata": {},
     "output_type": "execute_result"
    }
   ],
   "source": [
    "# LLM deciding what tool to use (output format = json)\n",
    "llm_res = ollama.chat(\n",
    "    model='llama3',\n",
    "    messages=[{\"role\":\"system\", \"content\":prompt+\"\\n\"+prompt_tools},\n",
    "              {\"role\":\"user\", \"content\":q}\n",
    "             ], format=\"json\")\n",
    "\n",
    "llm_res[\"message\"][\"content\"]"
   ]
  },
  {
   "cell_type": "code",
   "execution_count": 22,
   "metadata": {},
   "outputs": [
    {
     "name": "stdout",
     "output_type": "stream",
     "text": [
      "tool output:\n",
      " Famous deaths in September 2024. Learn about 55 historical figures, notable people and celebrities who died in Sep 2024 like Pete Rose, James Earl Jones and Kris Kristofferson. Search in the United States of people who died on September 9, 2024 obituaries and condolences. Find an obituary, get service details, leave condolence messages or send flowers or gifts in memory of a loved one. The following is a list of notable deaths in September 2024.. Entries for each day are listed alphabetically by surname. A typical entry lists information in the following sequence: Name, age, country of citizenship at birth, subsequent country of citizenship (if applicable), reason for notability, cause of death (if known), and reference. What happened on September 9, 2024. Browse historical events, famous birthdays and notable deaths from Sep 9, 2024 or search by date, day or keyword. ... Died in 2024 2024 Highlights. About September 9, 2024. Day of the ... Sep 8, 2024; Dates in History; Sep 10, 2024; Famous People by their Chinese Zodiac Animal. Year of the Snake 2025; Year of ... List of notable people that past away, sorted by date and year of death. Updated daily! Monday, September 9th, 2024 . Ana Gervasi (57) Peruvian diplomat. Tie Liu (91) Chinese writer and political dissident. Pádraic Monaghan (65) Irish Gaelic footballer. ... Deaths in September 2024 .\n",
      "\n",
      "llm output:\n",
      " According to the information provided, the following people died on September 9, 2024:\n",
      "\n",
      "1. Ana Gervasi (57), Peruvian diplomat.\n",
      "2. Tie Liu (91), Chinese writer and political dissident.\n",
      "3. Pádraic Monaghan (65), Irish Gaelic footballer.\n",
      "\n",
      "These are the only three notable deaths reported for September 9, 2024.\n"
     ]
    }
   ],
   "source": [
    "# LLM with context\n",
    "import json\n",
    "\n",
    "tool_input = json.loads(llm_res[\"message\"][\"content\"])[\"parameters\"][\"q\"]\n",
    "\n",
    "context = tool_browser(tool_input)\n",
    "print(\"tool output:\\n\", context)\n",
    "\n",
    "llm_output = ollama.chat(\n",
    "    model='llama3',\n",
    "    messages=[{\"role\":\"system\", \"content\":\"Give the most accurate answer using the folling information:\\n\"+context},\n",
    "              {\"role\":\"user\", \"content\":q}\n",
    "             ])\n",
    "\n",
    "print(\"\\nllm output:\\n\", llm_output[\"message\"][\"content\"])"
   ]
  },
  {
   "cell_type": "markdown",
   "metadata": {},
   "source": [
    "## Class tests"
   ]
  },
  {
   "cell_type": "code",
   "execution_count": 39,
   "metadata": {},
   "outputs": [
    {
     "name": "stdout",
     "output_type": "stream",
     "text": [
      "from\n",
      " {\"name\": \"tool_browser\", \"parameters\": {\"q\": \"people who died on September 9 2024\"}} \n",
      "to\n"
     ]
    },
    {
     "data": {
      "text/plain": [
       "AgentRes(tool_name='tool_browser', tool_input={'q': 'people who died on September 9 2024'}, tool_output=None)"
      ]
     },
     "execution_count": 39,
     "metadata": {},
     "output_type": "execute_result"
    }
   ],
   "source": [
    "from pydantic import BaseModel #this is the standard class\n",
    "\n",
    "# Taking for example the last LLM response, I want this structure:\n",
    "# {tool_name: 'tool_browser', \n",
    "#  tool_input: {'q':'September 9 2024 deaths'}, \n",
    "#  tool_output: str( tool_browser({'q':'September 9 2024 deaths'})) }\n",
    "\n",
    "class AgentRes(BaseModel):\n",
    "    tool_name: str  #<--must be a string = 'tool_browser'\n",
    "    tool_input: dict #<--must be a dictionary = {'q':'September 9 2024 deaths'}\n",
    "    tool_output: str | None = None #can be a string or None, default = None\n",
    "    \n",
    "    @classmethod\n",
    "    def from_llm(cls, res:dict): #<--return the class itself\n",
    "        try:\n",
    "            out = json.loads(res[\"message\"][\"content\"])\n",
    "            return cls(tool_name=out[\"name\"], tool_input=out[\"parameters\"])\n",
    "        except Exception as e:\n",
    "            print(f\"Error from Ollama:\\n{res}\\n\")\n",
    "            raise e\n",
    "\n",
    "# test\n",
    "agent_res = AgentRes.from_llm(llm_res)\n",
    "print(\"from\\n\", llm_res[\"message\"][\"content\"], \"\\nto\")\n",
    "agent_res"
   ]
  },
  {
   "cell_type": "code",
   "execution_count": 41,
   "metadata": {},
   "outputs": [
    {
     "data": {
      "text/plain": [
       "AgentRes(tool_name='tool_browser', tool_input={'q': 'September 9 2024 deaths'}, tool_output='Famous deaths in September 2024. Learn about 55 historical figures, notable people and celebrities who died in Sep 2024 like Pete Rose, James Earl Jones and Kris Kristofferson. ... (1931-2024) Sep 9 American Tony, Emmy, Grammy, and Golden Globe winning actor (The Great White Hope; Star Wars - \"voice of Darth Vader\"; Field Of Dreams\"), ... The following is a list of notable deaths in September 2024. Entries for each day are listed alphabetically by surname. A typical entry lists information in the following sequence: ... [9] Norman Chui, 73, Hong Kong actor (Vengeful Beauty, Heaven Sword and Dragon Sabre, Hong Kong Godfather), esophageal cancer. What happened on September 9, 2024. Browse historical events, famous birthdays and notable deaths from Sep 9, 2024 or search by date, day or keyword. Search in the United States of people who died on September 9, 2024 obituaries and condolences. Find an obituary, get service details, leave condolence messages or send flowers or gifts in memory of a loved one. Below is a list of notable deaths in 2024, arranged in chronological order. (The age of the individual is in parentheses.) January ... September 9. James Earl Jones (93): American actor who used his deep resonant voice to great effect in stage, film, and television roles; ...')"
      ]
     },
     "execution_count": 41,
     "metadata": {},
     "output_type": "execute_result"
    }
   ],
   "source": [
    "# test the tool output\n",
    "AgentRes(tool_name = \"tool_browser\", \n",
    "         tool_input = {'q':'September 9 2024 deaths'}, \n",
    "         tool_output = str( tool_browser({'q':'September 9 2024 deaths'})) )"
   ]
  },
  {
   "cell_type": "code",
   "execution_count": 42,
   "metadata": {},
   "outputs": [],
   "source": [
    "'''\n",
    "Messages in Memory will have this structure:\n",
    "[{'role':'assistant', 'content':'{\"name\":\"final_answer\", \"parameters\":{\"text\":\"How can I assist you today?\"}}'},\n",
    " {'role':'user', 'content':None}]\n",
    "'''\n",
    "\n",
    "def save_memory(lst_res:list[AgentRes], user_q:str) -> list:\n",
    "    ## create\n",
    "    memory = []\n",
    "    for res in [res for res in lst_res if res.tool_output is not None]:\n",
    "        memory.extend([\n",
    "            ### assistant message\n",
    "            {\"role\": \"assistant\", \"content\": json.dumps({\"name\":res.tool_name, \"parameters\":res.tool_input})},\n",
    "            ### user message\n",
    "            {\"role\":\"user\", \"content\":res.tool_output}\n",
    "        ])\n",
    "    \n",
    "    ## add a reminder of the original goal\n",
    "    if memory:\n",
    "        memory += [{\"role\":\"user\", \"content\":(f'''\n",
    "                This is just a reminder that my original query was `{user_q}`.\n",
    "                Only answer to the original query, and nothing else, but use the information I gave you. \n",
    "                Provide as much information as possible when you use the `final_answer` tool.\n",
    "                ''')}]\n",
    "    return memory"
   ]
  },
  {
   "cell_type": "code",
   "execution_count": 43,
   "metadata": {},
   "outputs": [],
   "source": [
    "history=[{\"role\": \"user\", \"content\": \"hi there, how are you?\"},\n",
    "         {\"role\": \"assistant\", \"content\": \"I'm good, thanks!\"},\n",
    "         {\"role\": \"user\", \"content\": \"I have a question\"},\n",
    "         {\"role\": \"assistant\", \"content\": \"tell me\"}]"
   ]
  },
  {
   "cell_type": "code",
   "execution_count": 50,
   "metadata": {},
   "outputs": [
    {
     "name": "stdout",
     "output_type": "stream",
     "text": [
      "[{'content': '\\n'\n",
      "             'You know everything, you must answer every question from the '\n",
      "             'user, you can use the list of tools provided to you.\\n'\n",
      "             'Your goal is to provide the user with the best possible answer, '\n",
      "             'including key information about the sources and tools used.\\n'\n",
      "             '\\n'\n",
      "             'Note, when using a tool, you provide the tool name and the '\n",
      "             'arguments to use in JSON format. \\n'\n",
      "             'For each call, you MUST ONLY use one tool AND the response '\n",
      "             'format must ALWAYS be in the pattern:\\n'\n",
      "             '```json\\n'\n",
      "             '{\"name\":\"<tool_name>\", \"parameters\": '\n",
      "             '{\"<tool_input_key>\":<tool_input_value>}}\\n'\n",
      "             '```\\n'\n",
      "             'Remember, do NOT use any tool with the same query more than '\n",
      "             'once.\\n'\n",
      "             \"Remember, if the user doesn't ask a specific question, you MUST \"\n",
      "             'use the `final_answer` tool directly.\\n'\n",
      "             '\\n'\n",
      "             'Every time the user asks a question, you take note of some '\n",
      "             'keywords in the memory.\\n'\n",
      "             \"Every time you find some information related to the user's \"\n",
      "             'question, you take note of some keywords in the memory.\\n'\n",
      "             '\\n'\n",
      "             'You should aim to collect information from a diverse range of '\n",
      "             'sources before providing the answer to the user. \\n'\n",
      "             'Once you have collected plenty of information to answer the '\n",
      "             \"user's question use the `final_answer` tool.\\n\"\n",
      "             '\\n'\n",
      "             'You can use the following tools:\\n'\n",
      "             '1. `tool_browser`: Search on DuckDuckGo browser by passing the '\n",
      "             'input `q`\\n'\n",
      "             '2. `final_answer`: Returns a natural language response to the '\n",
      "             'user by passing the input `text`. \\n'\n",
      "             'You should provide as much context as possible and specify the '\n",
      "             'source of the information.',\n",
      "  'role': 'system'},\n",
      " {'content': 'hi there, how are you?', 'role': 'user'},\n",
      " {'content': \"I'm good, thanks!\", 'role': 'assistant'},\n",
      " {'content': 'I have a question', 'role': 'user'},\n",
      " {'content': 'tell me', 'role': 'assistant'},\n",
      " {'content': 'who died on September 9, 2024?', 'role': 'user'}]\n",
      "\n",
      "agent_res: tool_name='tool_browser' tool_input={'q': 'Who died on September 9, 2024'} tool_output=None\n"
     ]
    }
   ],
   "source": [
    "def run_agent(prompt:str, user_q:str, chat_history:list[dict], \n",
    "              lst_res:list[AgentRes], lst_tools:list) -> AgentRes:\n",
    "    ## start memory\n",
    "    memory = save_memory(lst_res=lst_res, user_q=user_q)\n",
    "    \n",
    "    ## track used tools\n",
    "    if memory:\n",
    "        tools_used = [res.tool_name for res in lst_res]\n",
    "        if len(tools_used) >= len(lst_tools):\n",
    "            memory[-1][\"content\"] = \"You must now use the `final_answer` tool.\"\n",
    "        \n",
    "    ## messages\n",
    "    messages = [{\"role\":\"system\", \"content\":prompt+\"\\n\"+prompt_tools},\n",
    "                *chat_history,\n",
    "                {\"role\":\"user\", \"content\":user_q},\n",
    "                *memory]\n",
    "    pprint(messages) #<--print to see prompt + tools + chat_history\n",
    "    \n",
    "    ## output\n",
    "    llm_res = ollama.chat(model='llama3', messages=messages, format=\"json\")\n",
    "    return AgentRes.from_llm(llm_res)\n",
    "\n",
    "# test\n",
    "agent_res = run_agent(prompt=prompt, user_q=q, chat_history=history, lst_res=[], lst_tools=dic_tools.keys())\n",
    "print(\"\\nagent_res:\", agent_res)"
   ]
  },
  {
   "cell_type": "code",
   "execution_count": 51,
   "metadata": {},
   "outputs": [
    {
     "data": {
      "text/plain": [
       "{'user_q': 'who died on September 9, 2024?',\n",
       " 'chat_history': [{'role': 'user', 'content': 'hi there, how are you?'},\n",
       "  {'role': 'assistant', 'content': \"I'm good, thanks!\"},\n",
       "  {'role': 'user', 'content': 'I have a question'},\n",
       "  {'role': 'assistant', 'content': 'tell me'}],\n",
       " 'lst_res': [AgentRes(tool_name='tool_browser', tool_input={'q': 'Who died on September 9, 2024'}, tool_output=None)],\n",
       " 'output': {}}"
      ]
     },
     "execution_count": 51,
     "metadata": {},
     "output_type": "execute_result"
    }
   ],
   "source": [
    "import typing\n",
    "\n",
    "class State(typing.TypedDict):\n",
    "    user_q: str\n",
    "    chat_history: list \n",
    "    lst_res: list[AgentRes]\n",
    "    output: dict\n",
    "    \n",
    "# test\n",
    "state = State({\"user_q\":q, \"chat_history\":history, \"lst_res\":[agent_res], \"output\":{}})\n",
    "state"
   ]
  },
  {
   "cell_type": "code",
   "execution_count": 59,
   "metadata": {},
   "outputs": [
    {
     "name": "stdout",
     "output_type": "stream",
     "text": [
      "--- node_agent ---\n",
      "[{'content': '\\n'\n",
      "             'You know everything, you must answer every question from the '\n",
      "             'user, you can use the list of tools provided to you.\\n'\n",
      "             'Your goal is to provide the user with the best possible answer, '\n",
      "             'including key information about the sources and tools used.\\n'\n",
      "             '\\n'\n",
      "             'Note, when using a tool, you provide the tool name and the '\n",
      "             'arguments to use in JSON format. \\n'\n",
      "             'For each call, you MUST ONLY use one tool AND the response '\n",
      "             'format must ALWAYS be in the pattern:\\n'\n",
      "             '```json\\n'\n",
      "             '{\"name\":\"<tool_name>\", \"parameters\": '\n",
      "             '{\"<tool_input_key>\":<tool_input_value>}}\\n'\n",
      "             '```\\n'\n",
      "             'Remember, do NOT use any tool with the same query more than '\n",
      "             'once.\\n'\n",
      "             \"Remember, if the user doesn't ask a specific question, you MUST \"\n",
      "             'use the `final_answer` tool directly.\\n'\n",
      "             '\\n'\n",
      "             'Every time the user asks a question, you take note of some '\n",
      "             'keywords in the memory.\\n'\n",
      "             \"Every time you find some information related to the user's \"\n",
      "             'question, you take note of some keywords in the memory.\\n'\n",
      "             '\\n'\n",
      "             'You should aim to collect information from a diverse range of '\n",
      "             'sources before providing the answer to the user. \\n'\n",
      "             'Once you have collected plenty of information to answer the '\n",
      "             \"user's question use the `final_answer` tool.\\n\"\n",
      "             '\\n'\n",
      "             'You can use the following tools:\\n'\n",
      "             '1. `tool_browser`: Search on DuckDuckGo browser by passing the '\n",
      "             'input `q`\\n'\n",
      "             '2. `final_answer`: Returns a natural language response to the '\n",
      "             'user by passing the input `text`. \\n'\n",
      "             'You should provide as much context as possible and specify the '\n",
      "             'source of the information.',\n",
      "  'role': 'system'},\n",
      " {'content': 'hi there, how are you?', 'role': 'user'},\n",
      " {'content': \"I'm good, thanks!\", 'role': 'assistant'},\n",
      " {'content': 'I have a question', 'role': 'user'},\n",
      " {'content': 'tell me', 'role': 'assistant'},\n",
      " {'content': 'who died on September 9, 2024?', 'role': 'user'}]\n",
      "tool_name='tool_browser' tool_input={'q': 'who died on September 9, 2024'} tool_output=None\n"
     ]
    },
    {
     "data": {
      "text/plain": [
       "{'lst_res': [AgentRes(tool_name='tool_browser', tool_input={'q': 'who died on September 9, 2024'}, tool_output=None)]}"
      ]
     },
     "execution_count": 59,
     "metadata": {},
     "output_type": "execute_result"
    }
   ],
   "source": [
    "# Agent\n",
    "def node_agent(state):\n",
    "    print(\"--- node_agent ---\")\n",
    "    agent_res = run_agent(prompt=prompt, \n",
    "                          user_q=state[\"user_q\"], \n",
    "                          chat_history=state[\"chat_history\"], \n",
    "                          lst_res=state[\"lst_res\"],\n",
    "                          lst_tools=dic_tools.keys())\n",
    "    print(agent_res)\n",
    "    return {\"lst_res\":[agent_res]} #<--must return a the list of agent_res\n",
    "\n",
    "# test\n",
    "node_agent(state)"
   ]
  },
  {
   "cell_type": "code",
   "execution_count": 62,
   "metadata": {},
   "outputs": [
    {
     "name": "stdout",
     "output_type": "stream",
     "text": [
      "--- node_tool ---\n",
      "tool_browser(input={'q': 'Who died on September 9, 2024'})\n"
     ]
    },
    {
     "data": {
      "text/plain": [
       "{'lst_res': [AgentRes(tool_name='tool_browser', tool_input={'q': 'Who died on September 9, 2024'}, tool_output='Famous deaths in September 2024. Learn about 55 historical figures, notable people and celebrities who died in Sep 2024 like Pete Rose, James Earl Jones and Kris Kristofferson. The following is a list of notable deaths in September 2024. Entries for each day are listed alphabetically by surname. A typical entry lists information in the following sequence: Name, age, country of citizenship at birth, subsequent country of citizenship (if applicable), reason for notability, cause of death (if known), and reference. ... What happened on September 9, 2024. Browse historical events, famous birthdays and notable deaths from Sep 9, 2024 or search by date, day or keyword. Menu. Channels On This Day. Calendar; Search; September 2024. Events; ... Died in 2024 2024 Highlights. About September 9, 2024. Day of the Week: Monday Search in the United States of people who died on September 9, 2024 obituaries and condolences. Find an obituary, get service details, leave condolence messages or send flowers or gifts in memory of a loved one. Here, Newsweek pays homage to the stars who died in 2024 and the legacies they left behind. ... New York, on the morning of September 9, representatives for Jones confirmed to Deadline that day.')]}"
      ]
     },
     "execution_count": 62,
     "metadata": {},
     "output_type": "execute_result"
    }
   ],
   "source": [
    "def node_tool(state):\n",
    "    print(\"--- node_tool ---\")\n",
    "    res = state[\"lst_res\"][-1]\n",
    "    print(f\"{res.tool_name}(input={res.tool_input})\")\n",
    "    \n",
    "    agent_res = AgentRes(tool_name=res.tool_name, \n",
    "                         tool_input=res.tool_input, \n",
    "                         tool_output=str(dic_tools[res.tool_name](res.tool_input)) )\n",
    "    \n",
    "    return {\"output\":agent_res} if res.tool_name == \"final_answer\" else {\"lst_res\":[agent_res]}\n",
    "\n",
    "# test\n",
    "node_tool(state)"
   ]
  },
  {
   "cell_type": "code",
   "execution_count": 63,
   "metadata": {},
   "outputs": [
    {
     "name": "stdout",
     "output_type": "stream",
     "text": [
      "--- conditional_edges ---\n",
      "next_node: tool_browser\n"
     ]
    },
    {
     "data": {
      "text/plain": [
       "'tool_browser'"
      ]
     },
     "execution_count": 63,
     "metadata": {},
     "output_type": "execute_result"
    }
   ],
   "source": [
    "def conditional_edges(state):\n",
    "    print(\"--- conditional_edges ---\")\n",
    "    last_res = state[\"lst_res\"][-1]\n",
    "    next_node = last_res.tool_name if isinstance(state[\"lst_res\"], list) else \"final_answer\"\n",
    "    print(\"next_node:\", next_node)\n",
    "    return next_node #<--must return the next node to go\n",
    "\n",
    "# test\n",
    "conditional_edges(state)"
   ]
  },
  {
   "cell_type": "code",
   "execution_count": 64,
   "metadata": {},
   "outputs": [
    {
     "data": {
      "image/png": "[encoded data removed]",
      "text/plain": [
       "<IPython.core.display.Image object>"
      ]
     },
     "metadata": {},
     "output_type": "display_data"
    }
   ],
   "source": [
    "from langgraph.graph import StateGraph, END\n",
    "\n",
    "## start the graph\n",
    "workflow = StateGraph(State)\n",
    "\n",
    "## add Agent node\n",
    "workflow.add_node(node=\"Agent\", action=node_agent) \n",
    "workflow.set_entry_point(key=\"Agent\")  #<--user query\n",
    "\n",
    "## add Tools nodes\n",
    "for k in dic_tools.keys():\n",
    "    workflow.add_node(node=k, action=node_tool)\n",
    "\n",
    "## conditional_edges from Agent\n",
    "workflow.add_conditional_edges(source=\"Agent\", path=conditional_edges)\n",
    "\n",
    "## normal_edges to Agent\n",
    "for k in dic_tools.keys():\n",
    "    if k != \"final_answer\":\n",
    "        workflow.add_edge(start_key=k, end_key=\"Agent\")\n",
    "\n",
    "## end the graph\n",
    "workflow.add_edge(start_key=\"final_answer\", end_key=END)\n",
    "g = workflow.compile()\n",
    "\n",
    "## plot\n",
    "from IPython.display import Image, display\n",
    "from langchain_core.runnables.graph import MermaidDrawMethod\n",
    "\n",
    "display(Image(\n",
    "    g.get_graph().draw_mermaid_png(draw_method=MermaidDrawMethod.API)\n",
    "))"
   ]
  },
  {
   "cell_type": "code",
   "execution_count": 66,
   "metadata": {},
   "outputs": [],
   "source": [
    "state = {'user_q':q,\n",
    "         'chat_history':history, \n",
    "         'lst_res':[], \n",
    "         'output':{} }"
   ]
  },
  {
   "cell_type": "code",
   "execution_count": 67,
   "metadata": {},
   "outputs": [
    {
     "name": "stdout",
     "output_type": "stream",
     "text": [
      "--- node_agent ---\n",
      "[{'content': '\\n'\n",
      "             'You know everything, you must answer every question from the '\n",
      "             'user, you can use the list of tools provided to you.\\n'\n",
      "             'Your goal is to provide the user with the best possible answer, '\n",
      "             'including key information about the sources and tools used.\\n'\n",
      "             '\\n'\n",
      "             'Note, when using a tool, you provide the tool name and the '\n",
      "             'arguments to use in JSON format. \\n'\n",
      "             'For each call, you MUST ONLY use one tool AND the response '\n",
      "             'format must ALWAYS be in the pattern:\\n'\n",
      "             '```json\\n'\n",
      "             '{\"name\":\"<tool_name>\", \"parameters\": '\n",
      "             '{\"<tool_input_key>\":<tool_input_value>}}\\n'\n",
      "             '```\\n'\n",
      "             'Remember, do NOT use any tool with the same query more than '\n",
      "             'once.\\n'\n",
      "             \"Remember, if the user doesn't ask a specific question, you MUST \"\n",
      "             'use the `final_answer` tool directly.\\n'\n",
      "             '\\n'\n",
      "             'Every time the user asks a question, you take note of some '\n",
      "             'keywords in the memory.\\n'\n",
      "             \"Every time you find some information related to the user's \"\n",
      "             'question, you take note of some keywords in the memory.\\n'\n",
      "             '\\n'\n",
      "             'You should aim to collect information from a diverse range of '\n",
      "             'sources before providing the answer to the user. \\n'\n",
      "             'Once you have collected plenty of information to answer the '\n",
      "             \"user's question use the `final_answer` tool.\\n\"\n",
      "             '\\n'\n",
      "             'You can use the following tools:\\n'\n",
      "             '1. `tool_browser`: Search on DuckDuckGo browser by passing the '\n",
      "             'input `q`\\n'\n",
      "             '2. `final_answer`: Returns a natural language response to the '\n",
      "             'user by passing the input `text`. \\n'\n",
      "             'You should provide as much context as possible and specify the '\n",
      "             'source of the information.',\n",
      "  'role': 'system'},\n",
      " {'content': 'hi there, how are you?', 'role': 'user'},\n",
      " {'content': \"I'm good, thanks!\", 'role': 'assistant'},\n",
      " {'content': 'I have a question', 'role': 'user'},\n",
      " {'content': 'tell me', 'role': 'assistant'},\n",
      " {'content': 'who died on September 9, 2024?', 'role': 'user'}]\n",
      "tool_name='final_answer' tool_input={'text': \"Unfortunately, I couldn't find any information about who died on September 9, 2024. As the date is in the future, it's not possible to provide accurate information yet.\"} tool_output=None\n",
      "--- conditional_edges ---\n",
      "next_node: final_answer\n",
      "--- node_tool ---\n",
      "final_answer(input={'text': \"Unfortunately, I couldn't find any information about who died on September 9, 2024. As the date is in the future, it's not possible to provide accurate information yet.\"})\n"
     ]
    }
   ],
   "source": [
    "## 1) invoke function\n",
    "out = g.invoke(input=state)\n",
    "agent_out = out['output'].tool_output"
   ]
  },
  {
   "cell_type": "code",
   "execution_count": 68,
   "metadata": {},
   "outputs": [
    {
     "name": "stdout",
     "output_type": "stream",
     "text": [
      "--- node_agent ---\n",
      "[{'content': '\\n'\n",
      "             'You know everything, you must answer every question from the '\n",
      "             'user, you can use the list of tools provided to you.\\n'\n",
      "             'Your goal is to provide the user with the best possible answer, '\n",
      "             'including key information about the sources and tools used.\\n'\n",
      "             '\\n'\n",
      "             'Note, when using a tool, you provide the tool name and the '\n",
      "             'arguments to use in JSON format. \\n'\n",
      "             'For each call, you MUST ONLY use one tool AND the response '\n",
      "             'format must ALWAYS be in the pattern:\\n'\n",
      "             '```json\\n'\n",
      "             '{\"name\":\"<tool_name>\", \"parameters\": '\n",
      "             '{\"<tool_input_key>\":<tool_input_value>}}\\n'\n",
      "             '```\\n'\n",
      "             'Remember, do NOT use any tool with the same query more than '\n",
      "             'once.\\n'\n",
      "             \"Remember, if the user doesn't ask a specific question, you MUST \"\n",
      "             'use the `final_answer` tool directly.\\n'\n",
      "             '\\n'\n",
      "             'Every time the user asks a question, you take note of some '\n",
      "             'keywords in the memory.\\n'\n",
      "             \"Every time you find some information related to the user's \"\n",
      "             'question, you take note of some keywords in the memory.\\n'\n",
      "             '\\n'\n",
      "             'You should aim to collect information from a diverse range of '\n",
      "             'sources before providing the answer to the user. \\n'\n",
      "             'Once you have collected plenty of information to answer the '\n",
      "             \"user's question use the `final_answer` tool.\\n\"\n",
      "             '\\n'\n",
      "             'You can use the following tools:\\n'\n",
      "             '1. `tool_browser`: Search on DuckDuckGo browser by passing the '\n",
      "             'input `q`\\n'\n",
      "             '2. `final_answer`: Returns a natural language response to the '\n",
      "             'user by passing the input `text`. \\n'\n",
      "             'You should provide as much context as possible and specify the '\n",
      "             'source of the information.',\n",
      "  'role': 'system'},\n",
      " {'content': 'hi there, how are you?', 'role': 'user'},\n",
      " {'content': \"I'm good, thanks!\", 'role': 'assistant'},\n",
      " {'content': 'I have a question', 'role': 'user'},\n",
      " {'content': 'tell me', 'role': 'assistant'},\n",
      " {'content': 'who died on September 9, 2024?', 'role': 'user'}]\n",
      "tool_name='tool_browser' tool_input={'q': 'people who died on september 9, 2024'} tool_output=None\n",
      "--- conditional_edges ---\n",
      "next_node: tool_browser\n",
      "--- step 0 ---\n",
      "{'Agent': {'lst_res': [AgentRes(tool_name='tool_browser', tool_input={'q': 'people who died on september 9, 2024'}, tool_output=None)]}}\n",
      "--- node_tool ---\n",
      "tool_browser(input={'q': 'people who died on september 9, 2024'})\n",
      "--- step 1 ---\n",
      "{'tool_browser': {'lst_res': [AgentRes(tool_name='tool_browser', tool_input={'q': 'people who died on september 9, 2024'}, tool_output='Famous deaths in September 2024. Learn about 55 historical figures, notable people and celebrities who died in Sep 2024 like Pete Rose, James Earl Jones and Kris Kristofferson. Search in the United States of people who died on September 9, 2024 obituaries and condolences. Find an obituary, get service details, leave condolence messages or send flowers or gifts in memory of a loved one. The following is a list of notable deaths in September 2024.. Entries for each day are listed alphabetically by surname. A typical entry lists information in the following sequence: Name, age, country of citizenship at birth, subsequent country of citizenship (if applicable), reason for notability, cause of death (if known), and reference. What happened on September 9, 2024. Browse historical events, famous birthdays and notable deaths from Sep 9, 2024 or search by date, day or keyword. ... Died in 2024 2024 Highlights. About September 9, 2024. Day of the ... Sep 8, 2024; Dates in History; Sep 10, 2024; Famous People by their Chinese Zodiac Animal. Year of the Snake 2025; Year of ... List of notable people that past away, sorted by date and year of death. Updated daily! Monday, September 9th, 2024 . Ana Gervasi (57) Peruvian diplomat. Tie Liu (91) Chinese writer and political dissident. Pádraic Monaghan (65) Irish Gaelic footballer. ... Deaths in September 2024 .')]}}\n",
      "--- node_agent ---\n",
      "[{'content': '\\n'\n",
      "             'You know everything, you must answer every question from the '\n",
      "             'user, you can use the list of tools provided to you.\\n'\n",
      "             'Your goal is to provide the user with the best possible answer, '\n",
      "             'including key information about the sources and tools used.\\n'\n",
      "             '\\n'\n",
      "             'Note, when using a tool, you provide the tool name and the '\n",
      "             'arguments to use in JSON format. \\n'\n",
      "             'For each call, you MUST ONLY use one tool AND the response '\n",
      "             'format must ALWAYS be in the pattern:\\n'\n",
      "             '```json\\n'\n",
      "             '{\"name\":\"<tool_name>\", \"parameters\": '\n",
      "             '{\"<tool_input_key>\":<tool_input_value>}}\\n'\n",
      "             '```\\n'\n",
      "             'Remember, do NOT use any tool with the same query more than '\n",
      "             'once.\\n'\n",
      "             \"Remember, if the user doesn't ask a specific question, you MUST \"\n",
      "             'use the `final_answer` tool directly.\\n'\n",
      "             '\\n'\n",
      "             'Every time the user asks a question, you take note of some '\n",
      "             'keywords in the memory.\\n'\n",
      "             \"Every time you find some information related to the user's \"\n",
      "             'question, you take note of some keywords in the memory.\\n'\n",
      "             '\\n'\n",
      "             'You should aim to collect information from a diverse range of '\n",
      "             'sources before providing the answer to the user. \\n'\n",
      "             'Once you have collected plenty of information to answer the '\n",
      "             \"user's question use the `final_answer` tool.\\n\"\n",
      "             '\\n'\n",
      "             'You can use the following tools:\\n'\n",
      "             '1. `tool_browser`: Search on DuckDuckGo browser by passing the '\n",
      "             'input `q`\\n'\n",
      "             '2. `final_answer`: Returns a natural language response to the '\n",
      "             'user by passing the input `text`. \\n'\n",
      "             'You should provide as much context as possible and specify the '\n",
      "             'source of the information.',\n",
      "  'role': 'system'},\n",
      " {'content': 'hi there, how are you?', 'role': 'user'},\n",
      " {'content': \"I'm good, thanks!\", 'role': 'assistant'},\n",
      " {'content': 'I have a question', 'role': 'user'},\n",
      " {'content': 'tell me', 'role': 'assistant'},\n",
      " {'content': 'who died on September 9, 2024?', 'role': 'user'},\n",
      " {'content': '{\"name\": \"tool_browser\", \"parameters\": {\"q\": \"people who died on '\n",
      "             'september 9, 2024\"}}',\n",
      "  'role': 'assistant'},\n",
      " {'content': 'Famous deaths in September 2024. Learn about 55 historical '\n",
      "             'figures, notable people and celebrities who died in Sep 2024 '\n",
      "             'like Pete Rose, James Earl Jones and Kris Kristofferson. Search '\n",
      "             'in the United States of people who died on September 9, 2024 '\n",
      "             'obituaries and condolences. Find an obituary, get service '\n",
      "             'details, leave condolence messages or send flowers or gifts in '\n",
      "             'memory of a loved one. The following is a list of notable deaths '\n",
      "             'in September 2024.. Entries for each day are listed '\n",
      "             'alphabetically by surname. A typical entry lists information in '\n",
      "             'the following sequence: Name, age, country of citizenship at '\n",
      "             'birth, subsequent country of citizenship (if applicable), reason '\n",
      "             'for notability, cause of death (if known), and reference. What '\n",
      "             'happened on September 9, 2024. Browse historical events, famous '\n",
      "             'birthdays and notable deaths from Sep 9, 2024 or search by date, '\n",
      "             'day or keyword. ... Died in 2024 2024 Highlights. About '\n",
      "             'September 9, 2024. Day of the ... Sep 8, 2024; Dates in History; '\n",
      "             'Sep 10, 2024; Famous People by their Chinese Zodiac Animal. Year '\n",
      "             'of the Snake 2025; Year of ... List of notable people that past '\n",
      "             'away, sorted by date and year of death. Updated daily! Monday, '\n",
      "             'September 9th, 2024 . Ana Gervasi (57) Peruvian diplomat. Tie '\n",
      "             'Liu (91) Chinese writer and political dissident. Pádraic '\n",
      "             'Monaghan (65) Irish Gaelic footballer. ... Deaths in September '\n",
      "             '2024 .',\n",
      "  'role': 'user'},\n",
      " {'content': '\\n'\n",
      "             '                This is just a reminder that my original query '\n",
      "             'was `who died on September 9, 2024?`.\\n'\n",
      "             '                Only answer to the original query, and nothing '\n",
      "             'else, but use the information I gave you. \\n'\n",
      "             '                Provide as much information as possible when you '\n",
      "             'use the `final_answer` tool.\\n'\n",
      "             '                ',\n",
      "  'role': 'user'}]\n",
      "tool_name='final_answer' tool_input={'text': 'According to my research, on September 9, 2024, three notable individuals passed away: Ana Gervasi, a 57-year-old Peruvian diplomat; Tie Liu, a 91-year-old Chinese writer and political dissident; and Pádraic Monaghan, a 65-year-old Irish Gaelic footballer. These details were gathered from various online sources, including news articles and obituary websites.'} tool_output=None\n",
      "--- conditional_edges ---\n",
      "next_node: final_answer\n",
      "--- step 2 ---\n",
      "{'Agent': {'lst_res': [AgentRes(tool_name='final_answer', tool_input={'text': 'According to my research, on September 9, 2024, three notable individuals passed away: Ana Gervasi, a 57-year-old Peruvian diplomat; Tie Liu, a 91-year-old Chinese writer and political dissident; and Pádraic Monaghan, a 65-year-old Irish Gaelic footballer. These details were gathered from various online sources, including news articles and obituary websites.'}, tool_output=None)]}}\n",
      "--- node_tool ---\n",
      "final_answer(input={'text': 'According to my research, on September 9, 2024, three notable individuals passed away: Ana Gervasi, a 57-year-old Peruvian diplomat; Tie Liu, a 91-year-old Chinese writer and political dissident; and Pádraic Monaghan, a 65-year-old Irish Gaelic footballer. These details were gathered from various online sources, including news articles and obituary websites.'})\n",
      "--- step 3 ---\n",
      "{'final_answer': {'output': AgentRes(tool_name='final_answer', tool_input={'text': 'According to my research, on September 9, 2024, three notable individuals passed away: Ana Gervasi, a 57-year-old Peruvian diplomat; Tie Liu, a 91-year-old Chinese writer and political dissident; and Pádraic Monaghan, a 65-year-old Irish Gaelic footballer. These details were gathered from various online sources, including news articles and obituary websites.'}, tool_output='According to my research, on September 9, 2024, three notable individuals passed away: Ana Gervasi, a 57-year-old Peruvian diplomat; Tie Liu, a 91-year-old Chinese writer and political dissident; and Pádraic Monaghan, a 65-year-old Irish Gaelic footballer. These details were gathered from various online sources, including news articles and obituary websites.')}}\n"
     ]
    }
   ],
   "source": [
    "## 2) stream function\n",
    "steps = g.stream(input=state) \n",
    "for n,step in enumerate(steps):\n",
    "    print(\"--- step\", n, \"---\")\n",
    "    print(step)\n"
   ]
  },
  {
   "cell_type": "code",
   "execution_count": null,
   "metadata": {},
   "outputs": [],
   "source": []
  }
 ],
 "metadata": {
  "kernelspec": {
   "display_name": "agentenv",
   "language": "python",
   "name": "python3"
  },
  "language_info": {
   "codemirror_mode": {
    "name": "ipython",
    "version": 3
   },
   "file_extension": ".py",
   "mimetype": "text/x-python",
   "name": "python",
   "nbconvert_exporter": "python",
   "pygments_lexer": "ipython3",
   "version": "3.13.2"
  }
 },
 "nbformat": 4,
 "nbformat_minor": 2
}
