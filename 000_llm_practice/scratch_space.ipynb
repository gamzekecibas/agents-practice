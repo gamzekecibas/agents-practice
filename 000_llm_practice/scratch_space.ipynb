{
 "cells": [
  {
   "cell_type": "markdown",
   "metadata": {},
   "source": [
    "## Code GPT from Scratch\n",
    "### by Andrej Karpathy\n",
    "[![YouTube Icon](https://upload.wikimedia.org/wikipedia/commons/thumb/0/09/YouTube_full-color_icon_%282017%29.svg/20px-YouTube_full-color_icon_%282017%29.svg.png)](https://www.youtube.com/watch?v=kCc8FmEb1nY&t=7s)\n",
    "\n",
    "#### Table of Content\n",
    "1. Import Dataset from Hugging Face    \n",
    "    Dataset: *Tiny Shakespeare* by Andrej Karpathy: [🤗](https://huggingface.co/datasets/karpathy/tiny_shakespeare)\n",
    "2. Tokenization"
   ]
  },
  {
   "cell_type": "code",
   "execution_count": 1,
   "metadata": {},
   "outputs": [
    {
     "data": {
      "text/plain": [
       "'\\n!pip cache purge\\n!pip install pandas datasets # uninstall before pandas to handle the conflict\\n'"
      ]
     },
     "execution_count": 1,
     "metadata": {},
     "output_type": "execute_result"
    }
   ],
   "source": [
    "\"\"\"\n",
    "!pip cache purge\n",
    "!pip install pandas datasets # uninstall before pandas to handle the conflict\n",
    "\"\"\""
   ]
  },
  {
   "cell_type": "markdown",
   "metadata": {},
   "source": [
    "### 1. Import Dataset from 🤗"
   ]
  },
  {
   "cell_type": "code",
   "execution_count": 2,
   "metadata": {},
   "outputs": [
    {
     "name": "stderr",
     "output_type": "stream",
     "text": [
      "/Users/gamzekecibas/opt/anaconda3/envs/agentenv/lib/python3.9/site-packages/tqdm/auto.py:21: TqdmWarning: IProgress not found. Please update jupyter and ipywidgets. See https://ipywidgets.readthedocs.io/en/stable/user_install.html\n",
      "  from .autonotebook import tqdm as notebook_tqdm\n"
     ]
    },
    {
     "name": "stdout",
     "output_type": "stream",
     "text": [
      "<class 'datasets.dataset_dict.DatasetDict'>\n"
     ]
    }
   ],
   "source": [
    "from datasets import load_dataset\n",
    "\n",
    "# Load the dataset\n",
    "dataset = load_dataset('karpathy/tiny_shakespeare')\n",
    "\n",
    "# Print the dataset structure\n",
    "print(type(dataset))\n"
   ]
  },
  {
   "cell_type": "code",
   "execution_count": 3,
   "metadata": {},
   "outputs": [
    {
     "data": {
      "text/plain": [
       "dict_keys(['train', 'validation', 'test'])"
      ]
     },
     "execution_count": 3,
     "metadata": {},
     "output_type": "execute_result"
    }
   ],
   "source": [
    "dataset.keys()"
   ]
  },
  {
   "cell_type": "code",
   "execution_count": 4,
   "metadata": {},
   "outputs": [
    {
     "data": {
      "text/plain": [
       "datasets.arrow_dataset.Dataset"
      ]
     },
     "execution_count": 4,
     "metadata": {},
     "output_type": "execute_result"
    }
   ],
   "source": [
    "type(dataset['train'])"
   ]
  },
  {
   "cell_type": "code",
   "execution_count": 5,
   "metadata": {},
   "outputs": [
    {
     "name": "stdout",
     "output_type": "stream",
     "text": [
      "Initial portion of the train text:\n",
      "------------------------------------\n",
      "First Citizen:\n",
      "Before we proceed any further, hear me speak.\n",
      "\n",
      "All:\n",
      "Speak, speak.\n",
      "\n",
      "First Citizen:\n",
      "You are all resolved rather to die than to famish?\n",
      "\n",
      "All:\n",
      "Resolved. resolved.\n",
      "\n",
      "First Citizen:\n",
      "First, you\n"
     ]
    }
   ],
   "source": [
    "# Extract a portion of the train text\n",
    "text_sample = dataset['train'][0]['text']\n",
    "\n",
    "print(\"Initial portion of the train text:\\n------------------------------------\")\n",
    "print(text_sample[:200]) "
   ]
  },
  {
   "cell_type": "markdown",
   "metadata": {},
   "source": [
    "### 2. Tokenization\n",
    "\n",
    "- Mentioned different tokenizer libraries\n",
    "    -  [Sentencepiece](https://github.com/google/sentencepiece) by Google\n",
    "    - [tiktoken](https://github.com/openai/tiktoken) by OpenAI"
   ]
  },
  {
   "cell_type": "code",
   "execution_count": 6,
   "metadata": {},
   "outputs": [
    {
     "name": "stdout",
     "output_type": "stream",
     "text": [
      "Unique characters in the train set:\n",
      "\n",
      " !$&',-.3:;?ABCDEFGHIJKLMNOPQRSTUVWXYZabcdefghijklmnopqrstuvwxyz\n",
      "Its length: 65\n",
      "\n",
      "Unique characters in the validation set:\n",
      "\n",
      " !',-.:;?ABCDEFGHIJKLMNOPQRSTUVWYabcdefghijklmnopqrstuvwxyz\n",
      "Its length: 60\n",
      "\n",
      "Unique characters in the test set:\n",
      "\n",
      " !',-.:;?ABCDEFGHIJKLMNOPRSTUVWYZabcdefghijklmnopqrstuvwxyz\n",
      "Its length: 60\n",
      "\n"
     ]
    }
   ],
   "source": [
    "# here are all the unique characters that occur in the sets:\n",
    "def get_unique_characters(split):\n",
    "    all_chars = set()\n",
    "    for example in split:\n",
    "        all_chars.update(example['text'])\n",
    "    return ''.join(sorted(all_chars))\n",
    "\n",
    "# Get unique characters for each split efficiently\n",
    "unique_chars = {split: get_unique_characters(dataset[split]) for split in dataset.keys()}\n",
    "\n",
    "# Print the unique characters for each split\n",
    "for split, chars in unique_chars.items():\n",
    "    print(f\"Unique characters in the {split} set:\")\n",
    "    print(chars)\n",
    "    print(f\"Its length: {len(chars)}\\n\")"
   ]
  },
  {
   "cell_type": "code",
   "execution_count": 7,
   "metadata": {},
   "outputs": [],
   "source": [
    "# create a mapping from characters to integers\n",
    "# tokenize training characters\n",
    "# Simple tokenizer:\n",
    "\n",
    "st2int = {ch: i for i, ch in enumerate(unique_chars[\"train\"])}\n",
    "int2st = {i: ch for i, ch in enumerate(unique_chars[\"train\"])}\n",
    "\n",
    "# create encoder & decoder\n",
    "encode = lambda sample: [st2int[ch] for ch in sample]\n",
    "decode = lambda l: ''.join([int2st[i] for i in l])"
   ]
  },
  {
   "cell_type": "code",
   "execution_count": 8,
   "metadata": {},
   "outputs": [
    {
     "name": "stdout",
     "output_type": "stream",
     "text": [
      "[21, 58, 1, 47, 57, 1, 57, 59, 52, 52, 63]\n",
      "It is sunny\n"
     ]
    }
   ],
   "source": [
    "# test encoder & decoder\n",
    "print(encode(\"It is sunny\"))\n",
    "print(decode(encode(\"It is sunny\")))"
   ]
  },
  {
   "cell_type": "code",
   "execution_count": 9,
   "metadata": {},
   "outputs": [
    {
     "name": "stdout",
     "output_type": "stream",
     "text": [
      "50257\n"
     ]
    }
   ],
   "source": [
    "# Test different tokenizers\n",
    "# Using tiktoken\n",
    "import tiktoken\n",
    "\n",
    "# Load tiktoken model\n",
    "tokenizer = tiktoken.get_encoding(\"gpt2\")\n",
    "print(tokenizer.n_vocab)\n"
   ]
  },
  {
   "cell_type": "code",
   "execution_count": 10,
   "metadata": {},
   "outputs": [
    {
     "name": "stdout",
     "output_type": "stream",
     "text": [
      "tiktoken Encoded: [1026, 318, 27737]\n",
      "tiktoken Decoded: It is sunny\n"
     ]
    }
   ],
   "source": [
    "# Encode and decode using tiktoken\n",
    "tiktoken_encoded = tokenizer.encode(\"It is sunny\")\n",
    "tiktoken_decoded = tokenizer.decode(tiktoken_encoded)\n",
    "\n",
    "print(\"tiktoken Encoded:\", tiktoken_encoded)\n",
    "print(\"tiktoken Decoded:\", tiktoken_decoded)"
   ]
  },
  {
   "cell_type": "code",
   "execution_count": 11,
   "metadata": {},
   "outputs": [],
   "source": [
    "# Let's now encode the entire text dataset and store it into a torch. Tensor\n",
    "import torch\n",
    "\n",
    "train_data = torch.tensor(encode(dataset[\"train\"][0][\"text\"]), dtype=torch.long)\n",
    "val_data = torch.tensor(encode(dataset[\"validation\"][0][\"text\"]), dtype=torch.long)\n",
    "test_data = torch.tensor(encode(dataset[\"test\"][0][\"text\"]), dtype=torch.long)"
   ]
  },
  {
   "cell_type": "code",
   "execution_count": 12,
   "metadata": {},
   "outputs": [
    {
     "name": "stdout",
     "output_type": "stream",
     "text": [
      "Train data type is torch.int64. Train data shape is torch.Size([1003854])\n",
      "Validation data type is torch.int64. Validation data shape is torch.Size([55770])\n",
      "Test data type is torch.int64. Test data shape is torch.Size([1003854])\n"
     ]
    }
   ],
   "source": [
    "print(f\"Train data type is {train_data.dtype}. Train data shape is {train_data.shape}\")\n",
    "print(f\"Validation data type is {val_data.dtype}. Validation data shape is {val_data.shape}\")\n",
    "print(f\"Test data type is {train_data.dtype}. Test data shape is {train_data.shape}\")"
   ]
  },
  {
   "cell_type": "code",
   "execution_count": 13,
   "metadata": {},
   "outputs": [
    {
     "name": "stdout",
     "output_type": "stream",
     "text": [
      "tensor([18, 47, 56, 57, 58,  1, 15, 47, 58, 47, 64, 43, 52, 10,  0, 14, 43, 44,\n",
      "        53, 56, 43,  1, 61, 43,  1, 54, 56, 53, 41, 43, 43, 42,  1, 39, 52, 63,\n",
      "         1, 44, 59, 56, 58, 46, 43, 56,  6,  1, 46, 43, 39, 56,  1, 51, 43,  1,\n",
      "        57, 54, 43, 39, 49,  8,  0,  0, 13, 50, 50, 10,  0, 31, 54, 43, 39, 49,\n",
      "         6,  1, 57, 54, 43, 39, 49,  8,  0,  0, 18, 47, 56, 57, 58,  1, 15, 47,\n",
      "        58, 47, 64, 43, 52, 10,  0, 37, 53, 59])\n"
     ]
    }
   ],
   "source": [
    "print(train_data[:100])"
   ]
  },
  {
   "cell_type": "markdown",
   "metadata": {},
   "source": [
    "* The note about train/test ratio:  \n",
    "Train (%) /Test (%): 90/10"
   ]
  },
  {
   "cell_type": "code",
   "execution_count": 14,
   "metadata": {},
   "outputs": [
    {
     "data": {
      "text/plain": [
       "tensor([18, 47, 56, 57, 58,  1, 15, 47, 58])"
      ]
     },
     "execution_count": 14,
     "metadata": {},
     "output_type": "execute_result"
    }
   ],
   "source": [
    "block_size = 8\n",
    "train_data[:block_size+1] # a chunk of data"
   ]
  },
  {
   "cell_type": "code",
   "execution_count": 15,
   "metadata": {},
   "outputs": [
    {
     "name": "stdout",
     "output_type": "stream",
     "text": [
      "When the input tensor([18]), the target is 18\n",
      "When the input tensor([18, 47]), the target is 47\n",
      "When the input tensor([18, 47, 56]), the target is 56\n",
      "When the input tensor([18, 47, 56, 57]), the target is 57\n",
      "When the input tensor([18, 47, 56, 57, 58]), the target is 58\n",
      "When the input tensor([18, 47, 56, 57, 58,  1]), the target is 1\n",
      "When the input tensor([18, 47, 56, 57, 58,  1, 15]), the target is 15\n",
      "When the input tensor([18, 47, 56, 57, 58,  1, 15, 47]), the target is 47\n"
     ]
    }
   ],
   "source": [
    "# Explanation of block size on the chunk of data\n",
    "\n",
    "x = train_data[:block_size]\n",
    "y = train_data[:block_size+1]\n",
    "\n",
    "for t in range(block_size):\n",
    "    context = x[:t+1]\n",
    "    target = y[t]\n",
    "    \n",
    "    print(f\"When the input {context}, the target is {target}\")"
   ]
  },
  {
   "cell_type": "code",
   "execution_count": 16,
   "metadata": {},
   "outputs": [],
   "source": [
    "torch.manual_seed(1337)\n",
    "batch_size = 4 #how many independent sequences will we process in parallel?\n",
    "block_size = 8 #what is the maximum context length for predictions?\n",
    "\n",
    "def get_batch(split):\n",
    "    # generate a small batch of data of inputs x and targets y\n",
    "    data = train_data if split == 'train' else val_data\n",
    "    ix = torch.randint(len(data) - block_size, (batch_size, ))\n",
    "    x = torch.stack([data[i:i+block_size] for i in ix])\n",
    "    y = torch.stack([data[i+1:i+1+block_size] for i in ix])\n",
    "    \n",
    "    return x, y\n",
    "\n",
    "xb, yb = get_batch(\"train\")"
   ]
  },
  {
   "cell_type": "code",
   "execution_count": 17,
   "metadata": {},
   "outputs": [
    {
     "name": "stdout",
     "output_type": "stream",
     "text": [
      "Inputs: tensor([[24, 43, 58,  5, 57,  1, 46, 43],\n",
      "        [44, 53, 56,  1, 58, 46, 39, 58],\n",
      "        [52, 58,  1, 58, 46, 39, 58,  1],\n",
      "        [25, 17, 27, 10,  0, 21,  1, 54]])\n",
      "Its shape: torch.Size([4, 8])\n",
      "Targets: tensor([[43, 58,  5, 57,  1, 46, 43, 39],\n",
      "        [53, 56,  1, 58, 46, 39, 58,  1],\n",
      "        [58,  1, 58, 46, 39, 58,  1, 46],\n",
      "        [17, 27, 10,  0, 21,  1, 54, 39]])\n",
      "Its shape: torch.Size([4, 8])\n"
     ]
    }
   ],
   "source": [
    "print(f\"Inputs: {xb}\\nIts shape: {xb.shape}\")\n",
    "print(f\"Targets: {yb}\\nIts shape: {yb.shape}\")"
   ]
  },
  {
   "cell_type": "code",
   "execution_count": 18,
   "metadata": {},
   "outputs": [
    {
     "name": "stdout",
     "output_type": "stream",
     "text": [
      "1 -  When the input is [24], the target is 43\n",
      "2 -  When the input is [24, 43], the target is 58\n",
      "3 -  When the input is [24, 43, 58], the target is 5\n",
      "4 -  When the input is [24, 43, 58, 5], the target is 57\n",
      "5 -  When the input is [24, 43, 58, 5, 57], the target is 1\n",
      "6 -  When the input is [24, 43, 58, 5, 57, 1], the target is 46\n",
      "7 -  When the input is [24, 43, 58, 5, 57, 1, 46], the target is 43\n",
      "8 -  When the input is [24, 43, 58, 5, 57, 1, 46, 43], the target is 39\n",
      "-------------------------end of row=0--------------------------------------\n",
      "9 -  When the input is [44], the target is 53\n",
      "10 -  When the input is [44, 53], the target is 56\n",
      "11 -  When the input is [44, 53, 56], the target is 1\n",
      "12 -  When the input is [44, 53, 56, 1], the target is 58\n",
      "13 -  When the input is [44, 53, 56, 1, 58], the target is 46\n",
      "14 -  When the input is [44, 53, 56, 1, 58, 46], the target is 39\n",
      "15 -  When the input is [44, 53, 56, 1, 58, 46, 39], the target is 58\n",
      "16 -  When the input is [44, 53, 56, 1, 58, 46, 39, 58], the target is 1\n",
      "-------------------------end of row=1--------------------------------------\n",
      "17 -  When the input is [52], the target is 58\n",
      "18 -  When the input is [52, 58], the target is 1\n",
      "19 -  When the input is [52, 58, 1], the target is 58\n",
      "20 -  When the input is [52, 58, 1, 58], the target is 46\n",
      "21 -  When the input is [52, 58, 1, 58, 46], the target is 39\n",
      "22 -  When the input is [52, 58, 1, 58, 46, 39], the target is 58\n",
      "23 -  When the input is [52, 58, 1, 58, 46, 39, 58], the target is 1\n",
      "24 -  When the input is [52, 58, 1, 58, 46, 39, 58, 1], the target is 46\n",
      "-------------------------end of row=2--------------------------------------\n",
      "25 -  When the input is [25], the target is 17\n",
      "26 -  When the input is [25, 17], the target is 27\n",
      "27 -  When the input is [25, 17, 27], the target is 10\n",
      "28 -  When the input is [25, 17, 27, 10], the target is 0\n",
      "29 -  When the input is [25, 17, 27, 10, 0], the target is 21\n",
      "30 -  When the input is [25, 17, 27, 10, 0, 21], the target is 1\n",
      "31 -  When the input is [25, 17, 27, 10, 0, 21, 1], the target is 54\n",
      "32 -  When the input is [25, 17, 27, 10, 0, 21, 1, 54], the target is 39\n",
      "-------------------------end of row=3--------------------------------------\n"
     ]
    }
   ],
   "source": [
    "counter_1 = 0\n",
    "\n",
    "for b in range(batch_size):              # batch_dimension\n",
    "    for t in range(block_size):          # time dimension\n",
    "        context = xb[b, :t+1]\n",
    "        target = yb[b, t]\n",
    "        counter_1 += 1\n",
    "        print(f\"{counter_1} -  When the input is {context.tolist()}, the target is {target}\")\n",
    "    print(f\"-------------------------end of row={b}--------------------------------------\")"
   ]
  },
  {
   "cell_type": "code",
   "execution_count": null,
   "metadata": {},
   "outputs": [],
   "source": []
  }
 ],
 "metadata": {
  "kernelspec": {
   "display_name": "agentenv",
   "language": "python",
   "name": "python3"
  },
  "language_info": {
   "codemirror_mode": {
    "name": "ipython",
    "version": 3
   },
   "file_extension": ".py",
   "mimetype": "text/x-python",
   "name": "python",
   "nbconvert_exporter": "python",
   "pygments_lexer": "ipython3",
   "version": "3.9.21"
  }
 },
 "nbformat": 4,
 "nbformat_minor": 2
}
