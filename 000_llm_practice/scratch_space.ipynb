{
 "cells": [
  {
   "cell_type": "markdown",
   "metadata": {},
   "source": [
    "## Code GPT from Scratch\n",
    "### by Andrej Karpathy\n",
    "[![YouTube Icon](https://upload.wikimedia.org/wikipedia/commons/thumb/0/09/YouTube_full-color_icon_%282017%29.svg/20px-YouTube_full-color_icon_%282017%29.svg.png)](https://www.youtube.com/watch?v=kCc8FmEb1nY&t=7s)\n",
    "\n",
    "#### Table of Content\n",
    "1. Import Dataset from Hugging Face    \n",
    "    Dataset: *Tiny Shakespeare* by Andrej Karpathy: [🤗](https://huggingface.co/datasets/karpathy/tiny_shakespeare)\n",
    "2. Tokenization"
   ]
  },
  {
   "cell_type": "code",
   "execution_count": 13,
   "metadata": {},
   "outputs": [
    {
     "name": "stdout",
     "output_type": "stream",
     "text": [
      "Collecting pandas\n",
      "  Downloading pandas-2.2.3-cp313-cp313-macosx_10_13_x86_64.whl.metadata (89 kB)\n",
      "Collecting datasets\n",
      "  Downloading datasets-3.3.2-py3-none-any.whl.metadata (19 kB)\n",
      "Requirement already satisfied: numpy>=1.26.0 in /Users/gamzekecibas/opt/anaconda3/envs/agentenv/lib/python3.13/site-packages (from pandas) (1.26.4)\n",
      "Requirement already satisfied: python-dateutil>=2.8.2 in /Users/gamzekecibas/opt/anaconda3/envs/agentenv/lib/python3.13/site-packages (from pandas) (2.9.0.post0)\n",
      "Requirement already satisfied: pytz>=2020.1 in /Users/gamzekecibas/opt/anaconda3/envs/agentenv/lib/python3.13/site-packages (from pandas) (2025.1)\n",
      "Requirement already satisfied: tzdata>=2022.7 in /Users/gamzekecibas/opt/anaconda3/envs/agentenv/lib/python3.13/site-packages (from pandas) (2025.1)\n",
      "Requirement already satisfied: filelock in /Users/gamzekecibas/opt/anaconda3/envs/agentenv/lib/python3.13/site-packages (from datasets) (3.17.0)\n",
      "Requirement already satisfied: pyarrow>=15.0.0 in /Users/gamzekecibas/opt/anaconda3/envs/agentenv/lib/python3.13/site-packages (from datasets) (19.0.1)\n",
      "Requirement already satisfied: dill<0.3.9,>=0.3.0 in /Users/gamzekecibas/opt/anaconda3/envs/agentenv/lib/python3.13/site-packages (from datasets) (0.3.8)\n",
      "Requirement already satisfied: requests>=2.32.2 in /Users/gamzekecibas/opt/anaconda3/envs/agentenv/lib/python3.13/site-packages (from datasets) (2.32.3)\n",
      "Requirement already satisfied: tqdm>=4.66.3 in /Users/gamzekecibas/opt/anaconda3/envs/agentenv/lib/python3.13/site-packages (from datasets) (4.67.1)\n",
      "Requirement already satisfied: xxhash in /Users/gamzekecibas/opt/anaconda3/envs/agentenv/lib/python3.13/site-packages (from datasets) (3.5.0)\n",
      "Requirement already satisfied: multiprocess<0.70.17 in /Users/gamzekecibas/opt/anaconda3/envs/agentenv/lib/python3.13/site-packages (from datasets) (0.70.16)\n",
      "Requirement already satisfied: fsspec<=2024.12.0,>=2023.1.0 in /Users/gamzekecibas/opt/anaconda3/envs/agentenv/lib/python3.13/site-packages (from fsspec[http]<=2024.12.0,>=2023.1.0->datasets) (2024.12.0)\n",
      "Requirement already satisfied: aiohttp in /Users/gamzekecibas/opt/anaconda3/envs/agentenv/lib/python3.13/site-packages (from datasets) (3.11.12)\n",
      "Requirement already satisfied: huggingface-hub>=0.24.0 in /Users/gamzekecibas/opt/anaconda3/envs/agentenv/lib/python3.13/site-packages (from datasets) (0.29.1)\n",
      "Requirement already satisfied: packaging in /Users/gamzekecibas/opt/anaconda3/envs/agentenv/lib/python3.13/site-packages (from datasets) (24.2)\n",
      "Requirement already satisfied: pyyaml>=5.1 in /Users/gamzekecibas/opt/anaconda3/envs/agentenv/lib/python3.13/site-packages (from datasets) (6.0.2)\n",
      "Requirement already satisfied: aiohappyeyeballs>=2.3.0 in /Users/gamzekecibas/opt/anaconda3/envs/agentenv/lib/python3.13/site-packages (from aiohttp->datasets) (2.4.6)\n",
      "Requirement already satisfied: aiosignal>=1.1.2 in /Users/gamzekecibas/opt/anaconda3/envs/agentenv/lib/python3.13/site-packages (from aiohttp->datasets) (1.3.2)\n",
      "Requirement already satisfied: attrs>=17.3.0 in /Users/gamzekecibas/opt/anaconda3/envs/agentenv/lib/python3.13/site-packages (from aiohttp->datasets) (25.1.0)\n",
      "Requirement already satisfied: frozenlist>=1.1.1 in /Users/gamzekecibas/opt/anaconda3/envs/agentenv/lib/python3.13/site-packages (from aiohttp->datasets) (1.5.0)\n",
      "Requirement already satisfied: multidict<7.0,>=4.5 in /Users/gamzekecibas/opt/anaconda3/envs/agentenv/lib/python3.13/site-packages (from aiohttp->datasets) (6.1.0)\n",
      "Requirement already satisfied: propcache>=0.2.0 in /Users/gamzekecibas/opt/anaconda3/envs/agentenv/lib/python3.13/site-packages (from aiohttp->datasets) (0.2.1)\n",
      "Requirement already satisfied: yarl<2.0,>=1.17.0 in /Users/gamzekecibas/opt/anaconda3/envs/agentenv/lib/python3.13/site-packages (from aiohttp->datasets) (1.18.3)\n",
      "Requirement already satisfied: typing-extensions>=3.7.4.3 in /Users/gamzekecibas/opt/anaconda3/envs/agentenv/lib/python3.13/site-packages (from huggingface-hub>=0.24.0->datasets) (4.12.2)\n",
      "Requirement already satisfied: six>=1.5 in /Users/gamzekecibas/opt/anaconda3/envs/agentenv/lib/python3.13/site-packages (from python-dateutil>=2.8.2->pandas) (1.17.0)\n",
      "Requirement already satisfied: charset-normalizer<4,>=2 in /Users/gamzekecibas/opt/anaconda3/envs/agentenv/lib/python3.13/site-packages (from requests>=2.32.2->datasets) (3.4.1)\n",
      "Requirement already satisfied: idna<4,>=2.5 in /Users/gamzekecibas/opt/anaconda3/envs/agentenv/lib/python3.13/site-packages (from requests>=2.32.2->datasets) (3.10)\n",
      "Requirement already satisfied: urllib3<3,>=1.21.1 in /Users/gamzekecibas/opt/anaconda3/envs/agentenv/lib/python3.13/site-packages (from requests>=2.32.2->datasets) (2.3.0)\n",
      "Requirement already satisfied: certifi>=2017.4.17 in /Users/gamzekecibas/opt/anaconda3/envs/agentenv/lib/python3.13/site-packages (from requests>=2.32.2->datasets) (2025.1.31)\n",
      "Downloading pandas-2.2.3-cp313-cp313-macosx_10_13_x86_64.whl (12.5 MB)\n",
      "\u001b[2K   \u001b[90m━━━━━━━━━━━━━━━━━━━━━━━━━━━━━━━━━━━━━━━━\u001b[0m \u001b[32m12.5/12.5 MB\u001b[0m \u001b[31m12.0 MB/s\u001b[0m eta \u001b[36m0:00:00\u001b[0m00:01\u001b[0m00:01\u001b[0m\n",
      "\u001b[?25hDownloading datasets-3.3.2-py3-none-any.whl (485 kB)\n",
      "Installing collected packages: pandas, datasets\n",
      "Successfully installed datasets-3.3.2 pandas-2.2.3\n"
     ]
    }
   ],
   "source": [
    "\"\"\"\n",
    "!pip cache purge\n",
    "!pip install pandas datasets # uninstall before pandas to handle the conflict\n",
    "\"\"\""
   ]
  },
  {
   "cell_type": "markdown",
   "metadata": {},
   "source": [
    "### 1. Import Dataset from 🤗"
   ]
  },
  {
   "cell_type": "code",
   "execution_count": 2,
   "metadata": {},
   "outputs": [
    {
     "data": {
      "application/vnd.jupyter.widget-view+json": {
       "model_id": "237477216fd04c7f8e4c80b3a4335eeb",
       "version_major": 2,
       "version_minor": 0
      },
      "text/plain": [
       "Downloading data:   0%|          | 0.00/1.12M [00:00<?, ?B/s]"
      ]
     },
     "metadata": {},
     "output_type": "display_data"
    },
    {
     "data": {
      "application/vnd.jupyter.widget-view+json": {
       "model_id": "3ee7a056a6f249f4a626c23924232759",
       "version_major": 2,
       "version_minor": 0
      },
      "text/plain": [
       "Generating train split:   0%|          | 0/1 [00:00<?, ? examples/s]"
      ]
     },
     "metadata": {},
     "output_type": "display_data"
    },
    {
     "data": {
      "application/vnd.jupyter.widget-view+json": {
       "model_id": "5aba69a418cd4e67948801bb95cbb8f3",
       "version_major": 2,
       "version_minor": 0
      },
      "text/plain": [
       "Generating validation split:   0%|          | 0/1 [00:00<?, ? examples/s]"
      ]
     },
     "metadata": {},
     "output_type": "display_data"
    },
    {
     "data": {
      "application/vnd.jupyter.widget-view+json": {
       "model_id": "ff138900f0c240bc824c71eb78841866",
       "version_major": 2,
       "version_minor": 0
      },
      "text/plain": [
       "Generating test split:   0%|          | 0/1 [00:00<?, ? examples/s]"
      ]
     },
     "metadata": {},
     "output_type": "display_data"
    },
    {
     "name": "stdout",
     "output_type": "stream",
     "text": [
      "<class 'datasets.dataset_dict.DatasetDict'>\n"
     ]
    }
   ],
   "source": [
    "from datasets import load_dataset\n",
    "\n",
    "# Load the dataset\n",
    "dataset = load_dataset('karpathy/tiny_shakespeare')\n",
    "\n",
    "# Print the dataset structure\n",
    "print(type(dataset))\n"
   ]
  },
  {
   "cell_type": "code",
   "execution_count": 3,
   "metadata": {},
   "outputs": [
    {
     "data": {
      "text/plain": [
       "dict_keys(['train', 'validation', 'test'])"
      ]
     },
     "execution_count": 3,
     "metadata": {},
     "output_type": "execute_result"
    }
   ],
   "source": [
    "dataset.keys()"
   ]
  },
  {
   "cell_type": "code",
   "execution_count": 4,
   "metadata": {},
   "outputs": [
    {
     "data": {
      "text/plain": [
       "datasets.arrow_dataset.Dataset"
      ]
     },
     "execution_count": 4,
     "metadata": {},
     "output_type": "execute_result"
    }
   ],
   "source": [
    "type(dataset['train'])"
   ]
  },
  {
   "cell_type": "code",
   "execution_count": 17,
   "metadata": {},
   "outputs": [
    {
     "name": "stdout",
     "output_type": "stream",
     "text": [
      "Initial portion of the train text:\n",
      "------------------------------------\n",
      "First Citizen:\n",
      "Before we proceed any further, hear me speak.\n",
      "\n",
      "All:\n",
      "Speak, speak.\n",
      "\n",
      "First Citizen:\n",
      "You are all resolved rather to die than to famish?\n",
      "\n",
      "All:\n",
      "Resolved. resolved.\n",
      "\n",
      "First Citizen:\n",
      "First, you\n"
     ]
    }
   ],
   "source": [
    "# Extract a portion of the train text\n",
    "text_sample = dataset['train'][0]['text']\n",
    "\n",
    "print(\"Initial portion of the train text:\\n------------------------------------\")\n",
    "print(text_sample[:200]) "
   ]
  },
  {
   "cell_type": "markdown",
   "metadata": {},
   "source": [
    "### 2. Tokenization\n",
    "\n",
    "- Mentioned different tokenizer libraries\n",
    "    -  [Sentencepiece](https://github.com/google/sentencepiece) by Google\n",
    "    - [tiktoken](https://github.com/openai/tiktoken) by OpenAI"
   ]
  },
  {
   "cell_type": "code",
   "execution_count": 20,
   "metadata": {},
   "outputs": [
    {
     "name": "stdout",
     "output_type": "stream",
     "text": [
      "Unique characters in the train set:\n",
      "\n",
      " !$&',-.3:;?ABCDEFGHIJKLMNOPQRSTUVWXYZabcdefghijklmnopqrstuvwxyz\n",
      "Its length: 65\n",
      "\n",
      "Unique characters in the validation set:\n",
      "\n",
      " !',-.:;?ABCDEFGHIJKLMNOPQRSTUVWYabcdefghijklmnopqrstuvwxyz\n",
      "Its length: 60\n",
      "\n",
      "Unique characters in the test set:\n",
      "\n",
      " !',-.:;?ABCDEFGHIJKLMNOPRSTUVWYZabcdefghijklmnopqrstuvwxyz\n",
      "Its length: 60\n",
      "\n"
     ]
    }
   ],
   "source": [
    "# here are all the unique characters that occur in the sets:\n",
    "def get_unique_characters(split):\n",
    "    all_chars = set()\n",
    "    for example in split:\n",
    "        all_chars.update(example['text'])\n",
    "    return ''.join(sorted(all_chars))\n",
    "\n",
    "# Get unique characters for each split efficiently\n",
    "unique_chars = {split: get_unique_characters(dataset[split]) for split in dataset.keys()}\n",
    "\n",
    "# Print the unique characters for each split\n",
    "for split, chars in unique_chars.items():\n",
    "    print(f\"Unique characters in the {split} set:\")\n",
    "    print(chars)\n",
    "    print(f\"Its length: {len(chars)}\\n\")"
   ]
  },
  {
   "cell_type": "code",
   "execution_count": 26,
   "metadata": {},
   "outputs": [],
   "source": [
    "# create a mapping from characters to integers\n",
    "# tokenize training characters\n",
    "# Simple tokenizer:\n",
    "\n",
    "st2int = {ch: i for i, ch in enumerate(unique_chars[\"train\"])}\n",
    "int2st = {i: ch for i, ch in enumerate(unique_chars[\"train\"])}\n",
    "\n",
    "# create encoder & decoder\n",
    "encode = lambda sample: [st2int[ch] for ch in sample]\n",
    "decode = lambda l: ''.join([int2st[i] for i in l])"
   ]
  },
  {
   "cell_type": "code",
   "execution_count": 28,
   "metadata": {},
   "outputs": [
    {
     "name": "stdout",
     "output_type": "stream",
     "text": [
      "[21, 58, 1, 47, 57, 1, 57, 59, 52, 52, 63]\n",
      "It is sunny\n"
     ]
    }
   ],
   "source": [
    "# test encoder & decoder\n",
    "print(encode(\"It is sunny\"))\n",
    "print(decode(encode(\"It is sunny\")))"
   ]
  },
  {
   "cell_type": "code",
   "execution_count": 32,
   "metadata": {},
   "outputs": [
    {
     "name": "stdout",
     "output_type": "stream",
     "text": [
      "50257\n"
     ]
    }
   ],
   "source": [
    "# Test different tokenizers\n",
    "# Using tiktoken\n",
    "import tiktoken\n",
    "\n",
    "# Load tiktoken model\n",
    "tokenizer = tiktoken.get_encoding(\"gpt2\")\n",
    "print(tokenizer.n_vocab)\n"
   ]
  },
  {
   "cell_type": "code",
   "execution_count": 33,
   "metadata": {},
   "outputs": [
    {
     "name": "stdout",
     "output_type": "stream",
     "text": [
      "tiktoken Encoded: [1026, 318, 27737]\n",
      "tiktoken Decoded: It is sunny\n"
     ]
    }
   ],
   "source": [
    "# Encode and decode using tiktoken\n",
    "tiktoken_encoded = tokenizer.encode(\"It is sunny\")\n",
    "tiktoken_decoded = tokenizer.decode(tiktoken_encoded)\n",
    "\n",
    "print(\"tiktoken Encoded:\", tiktoken_encoded)\n",
    "print(\"tiktoken Decoded:\", tiktoken_decoded)"
   ]
  },
  {
   "cell_type": "code",
   "execution_count": null,
   "metadata": {},
   "outputs": [],
   "source": [
    "# Let's now encode the entire text dataset and store it into a torch. Tensor\n",
    "import torch"
   ]
  }
 ],
 "metadata": {
  "kernelspec": {
   "display_name": "agentenv",
   "language": "python",
   "name": "python3"
  },
  "language_info": {
   "codemirror_mode": {
    "name": "ipython",
    "version": 3
   },
   "file_extension": ".py",
   "mimetype": "text/x-python",
   "name": "python",
   "nbconvert_exporter": "python",
   "pygments_lexer": "ipython3",
   "version": "3.13.2"
  }
 },
 "nbformat": 4,
 "nbformat_minor": 2
}
