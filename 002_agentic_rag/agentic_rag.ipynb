{
 "cells": [
  {
   "cell_type": "markdown",
   "metadata": {},
   "source": [
    "# Agentic RAG Playground by LlamaIndex"
   ]
  },
  {
   "cell_type": "code",
   "execution_count": 1,
   "metadata": {},
   "outputs": [],
   "source": [
    "import datasets\n",
    "from llama_index.core.schema import Document"
   ]
  },
  {
   "cell_type": "code",
   "execution_count": 2,
   "metadata": {},
   "outputs": [],
   "source": [
    "# Load the dataset\n",
    "guest_dataset = datasets.load_dataset(\"agents-course/unit3-invitees\", split=\"train\")\n",
    "\n",
    "# Convert dataset entries into Document objects\n",
    "docs = [\n",
    "    Document(\n",
    "        text=\"\\n\".join([\n",
    "            f\"Name: {guest_dataset['name'][i]}\",\n",
    "            f\"Relation: {guest_dataset['relation'][i]}\",\n",
    "            f\"Description: {guest_dataset['description'][i]}\",\n",
    "            f\"Email: {guest_dataset['email'][i]}\"\n",
    "        ]),\n",
    "        metadata={\"name\": guest_dataset['name'][i]}\n",
    "    )\n",
    "    for i in range(len(guest_dataset))\n",
    "]"
   ]
  },
  {
   "cell_type": "code",
   "execution_count": 3,
   "metadata": {},
   "outputs": [],
   "source": [
    "# Initialize the tool\n",
    "from src.tools import GuestInfoRetrieverTool\n",
    "guest_info_tool = GuestInfoRetrieverTool(docs)"
   ]
  },
  {
   "cell_type": "code",
   "execution_count": null,
   "metadata": {},
   "outputs": [
    {
     "name": "stdout",
     "output_type": "stream",
     "text": [
      "Ollama server is running and ready.\n",
      "Ollama server is already running.\n",
      "> Running step 26ce435e-624a-490f-b69f-05afe98ca90e. Step input: Tell me about our guest named 'Lady Ada Lovelace'.\n",
      "\u001b[1;3;38;5;200mThought: The current language of the user is English. I need to use a tool to help me answer the question.\n",
      "Action: guest_info\n",
      "Action Input: {'query': 'Lady Ada Lovelace'}\n",
      "\u001b[0m\u001b[1;3;34mObservation: Error: name 're' is not defined\n",
      "\u001b[0m> Running step e13cd42e-04e5-4fc0-a1b6-5c46b3b3edf2. Step input: None\n"
     ]
    }
   ],
   "source": [
    "from llama_index.core.agent import ReActAgent\n",
    "from llama_index.llms.ollama import Ollama\n",
    "from llama_index.core.tools import FunctionTool\n",
    "from src.tools import GuestInfoRetrieverTool\n",
    "from src.utils import ensure_ollama_server\n",
    "\n",
    "# Initialize the guest info retriever tool\n",
    "guest_info_retriever = GuestInfoRetrieverTool(docs)\n",
    "\n",
    "# Create a proper FunctionTool\n",
    "guest_info_tool = FunctionTool.from_defaults(\n",
    "    fn=guest_info_retriever.get_guest_info,\n",
    "    name=\"guest_info\",\n",
    "    description=\"Retrieve information about guests attending the gala by their name\"\n",
    ")\n",
    "\n",
    "# Ensure Ollama server is running\n",
    "await ensure_ollama_server()\n",
    "\n",
    "# Initialize the LLM\n",
    "llm = Ollama(model=\"llama3:latest\")\n",
    "\n",
    "# Create the agent with minimal configuration\n",
    "alfred = ReActAgent.from_tools(\n",
    "    [guest_info_tool],\n",
    "    llm=llm,\n",
    "    verbose=True,    # True: visible to thought & action steps\n",
    "    max_iterations=0  # to limit how many iterations to get the final result.\n",
    ")\n",
    "\n",
    "# Example query\n",
    "try:\n",
    "    response = await alfred.aquery(\"Tell me about our guest named 'Lady Ada Lovelace'.\")\n",
    "    # Check if the response contains the answer\n",
    "    if \"Lady Ada Lovelace\" in response.response:\n",
    "        print(\"🎩 Alfred's Response:\")\n",
    "        print(response.response)\n",
    "    else:\n",
    "        print(\"🎩 Alfred did not find the answer.\")\n",
    "except Exception as e:\n",
    "    print(f\"An error occurred: {e}\")\n"
   ]
  },
  {
   "cell_type": "code",
   "execution_count": null,
   "metadata": {},
   "outputs": [],
   "source": [
    "🎩 Alfred's Response:\n",
    "Lady Ada Lovelace is an esteemed mathematician and friend, renowned for her pioneering work in mathematics and computing. She is celebrated as the first computer programmer due to her work on Charles Babbage's Analytical Engine. Her email is ada.lovelace@example.com.\n",
    "\n",
    "🎩 Alfred's Response:\n",
    "Lady Ada Lovelace is indeed a renowned mathematician and friend, celebrated for her pioneering work in mathematics and computing. She is often referred to as the first computer programmer due to her work on Charles Babbage's Analytical Engine."
   ]
  },
  {
   "cell_type": "code",
   "execution_count": null,
   "metadata": {},
   "outputs": [],
   "source": []
  }
 ],
 "metadata": {
  "kernelspec": {
   "display_name": "agentenv",
   "language": "python",
   "name": "python3"
  },
  "language_info": {
   "codemirror_mode": {
    "name": "ipython",
    "version": 3
   },
   "file_extension": ".py",
   "mimetype": "text/x-python",
   "name": "python",
   "nbconvert_exporter": "python",
   "pygments_lexer": "ipython3",
   "version": "3.9.21"
  }
 },
 "nbformat": 4,
 "nbformat_minor": 2
}
