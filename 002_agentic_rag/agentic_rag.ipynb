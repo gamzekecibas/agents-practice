{
 "cells": [
  {
   "cell_type": "markdown",
   "metadata": {},
   "source": [
    "# Agentic RAG Playground by LlamaIndex"
   ]
  },
  {
   "cell_type": "code",
   "execution_count": 1,
   "metadata": {},
   "outputs": [],
   "source": [
    "import datasets\n",
    "from llama_index.core.schema import Document"
   ]
  },
  {
   "cell_type": "code",
   "execution_count": 2,
   "metadata": {},
   "outputs": [],
   "source": [
    "# Load the dataset\n",
    "guest_dataset = datasets.load_dataset(\"agents-course/unit3-invitees\", split=\"train\")\n",
    "\n",
    "# Convert dataset entries into Document objects\n",
    "docs = [\n",
    "    Document(\n",
    "        text=\"\\n\".join([\n",
    "            f\"Name: {guest_dataset['name'][i]}\",\n",
    "            f\"Relation: {guest_dataset['relation'][i]}\",\n",
    "            f\"Description: {guest_dataset['description'][i]}\",\n",
    "            f\"Email: {guest_dataset['email'][i]}\"\n",
    "        ]),\n",
    "        metadata={\"name\": guest_dataset['name'][i]}\n",
    "    )\n",
    "    for i in range(len(guest_dataset))\n",
    "]"
   ]
  },
  {
   "cell_type": "code",
   "execution_count": 3,
   "metadata": {},
   "outputs": [],
   "source": [
    "# Initialize the tool\n",
    "from src.tools import GuestInfoRetrieverTool\n",
    "guest_info_tool = GuestInfoRetrieverTool(docs)"
   ]
  },
  {
   "cell_type": "code",
   "execution_count": 4,
   "metadata": {},
   "outputs": [
    {
     "name": "stdout",
     "output_type": "stream",
     "text": [
      "> Running step 25fbc111-0153-43ad-9913-400dbcc0e870. Step input: Tell me about our guest named 'Lady Ada Lovelace'.\n",
      "\u001b[1;3;38;5;200mThought: The current language of the user is English. I need to use a tool to help me answer the question.\n",
      "Action: guest_info\n",
      "Action Input: {'query': 'Lady Ada Lovelace'}\n",
      "\u001b[0m\u001b[1;3;34mObservation: Name: Ada Lovelace\n",
      "Relation: best friend\n",
      "Description: Lady Ada Lovelace is my best friend. She is an esteemed mathematician and friend. She is renowned for her pioneering work in mathematics and computing, often celebrated as the first computer programmer due to her work on Charles Babbage's Analytical Engine.\n",
      "Email: ada.lovelace@example.com\n",
      "\u001b[0m> Running step a832f0c1-c608-4795-b247-ea222830a1d4. Step input: None\n",
      "\u001b[1;3;38;5;200mThought: I can answer without using any more tools. I'll use the user's language to answer\n",
      "Answer: Lady Ada Lovelace is indeed a renowned mathematician and friend, celebrated for her pioneering work in mathematics and computing. She is often referred to as the first computer programmer due to her work on Charles Babbage's Analytical Engine.\n",
      "\u001b[0m🎩 Alfred's Response:\n",
      "Lady Ada Lovelace is indeed a renowned mathematician and friend, celebrated for her pioneering work in mathematics and computing. She is often referred to as the first computer programmer due to her work on Charles Babbage's Analytical Engine.\n"
     ]
    }
   ],
   "source": [
    "from llama_index.core.agent import ReActAgent\n",
    "from llama_index.llms.ollama import Ollama\n",
    "from llama_index.core.tools import FunctionTool\n",
    "from src.tools import GuestInfoRetrieverTool\n",
    "\n",
    "# Initialize the guest info retriever tool\n",
    "guest_info_retriever = GuestInfoRetrieverTool(docs)\n",
    "\n",
    "# Create a proper FunctionTool\n",
    "guest_info_tool = FunctionTool.from_defaults(\n",
    "    fn=guest_info_retriever.get_guest_info,\n",
    "    name=\"guest_info\",\n",
    "    description=\"Retrieve information about guests attending the gala by their name\"\n",
    ")\n",
    "\n",
    "# Initialize the LLM which one is available in the local system\n",
    "llm = Ollama(model=\"llama3:latest\")\n",
    "\n",
    "# Create the agent with minimal configuration\n",
    "alfred = ReActAgent.from_tools(\n",
    "    [guest_info_tool],\n",
    "    llm=llm,\n",
    "    verbose=True,\n",
    "    max_iterations=0  # to limit how many iterations to get the final result.\n",
    ")\n",
    "\n",
    "# Example query\n",
    "response = await alfred.aquery(\"Tell me about our guest named 'Lady Ada Lovelace'.\")\n",
    "\n",
    "# Check if the response contains the answer\n",
    "if \"Lady Ada Lovelace\" in response.response:\n",
    "    print(\"🎩 Alfred's Response:\")\n",
    "    print(response.response)\n",
    "else:\n",
    "    print(\"🎩 Alfred did not find the answer.\")"
   ]
  },
  {
   "cell_type": "code",
   "execution_count": null,
   "metadata": {},
   "outputs": [],
   "source": [
    "🎩 Alfred's Response:\n",
    "Lady Ada Lovelace is an esteemed mathematician and friend, renowned for her pioneering work in mathematics and computing. She is celebrated as the first computer programmer due to her work on Charles Babbage's Analytical Engine. Her email is ada.lovelace@example.com.\n",
    "\n",
    "🎩 Alfred's Response:\n",
    "Lady Ada Lovelace is indeed a renowned mathematician and friend, celebrated for her pioneering work in mathematics and computing. She is often referred to as the first computer programmer due to her work on Charles Babbage's Analytical Engine."
   ]
  }
 ],
 "metadata": {
  "kernelspec": {
   "display_name": "agentenv",
   "language": "python",
   "name": "python3"
  },
  "language_info": {
   "codemirror_mode": {
    "name": "ipython",
    "version": 3
   },
   "file_extension": ".py",
   "mimetype": "text/x-python",
   "name": "python",
   "nbconvert_exporter": "python",
   "pygments_lexer": "ipython3",
   "version": "3.9.21"
  }
 },
 "nbformat": 4,
 "nbformat_minor": 2
}
