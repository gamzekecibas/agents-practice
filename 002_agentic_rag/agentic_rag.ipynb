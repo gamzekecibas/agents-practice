{
 "cells": [
  {
   "cell_type": "markdown",
   "metadata": {},
   "source": [
    "# Agentic RAG Playground by LlamaIndex"
   ]
  },
  {
   "cell_type": "code",
   "execution_count": 1,
   "metadata": {},
   "outputs": [],
   "source": [
    "import datasets\n",
    "from llama_index.core.schema import Document"
   ]
  },
  {
   "cell_type": "code",
   "execution_count": 2,
   "metadata": {},
   "outputs": [],
   "source": [
    "# Load the dataset\n",
    "guest_dataset = datasets.load_dataset(\"agents-course/unit3-invitees\", split=\"train\")\n",
    "\n",
    "# Convert dataset entries into Document objects\n",
    "docs = [\n",
    "    Document(\n",
    "        text=\"\\n\".join([\n",
    "            f\"Name: {guest_dataset['name'][i]}\",\n",
    "            f\"Relation: {guest_dataset['relation'][i]}\",\n",
    "            f\"Description: {guest_dataset['description'][i]}\",\n",
    "            f\"Email: {guest_dataset['email'][i]}\"\n",
    "        ]),\n",
    "        metadata={\"name\": guest_dataset['name'][i]}\n",
    "    )\n",
    "    for i in range(len(guest_dataset))\n",
    "]"
   ]
  },
  {
   "cell_type": "code",
   "execution_count": 3,
   "metadata": {},
   "outputs": [],
   "source": [
    "# Initialize the tool\n",
    "from src.tools import GuestInfoRetrieverTool\n",
    "guest_info_tool = GuestInfoRetrieverTool(docs)"
   ]
  },
  {
   "cell_type": "code",
   "execution_count": 4,
   "metadata": {},
   "outputs": [
    {
     "ename": "ImportError",
     "evalue": "cannot import name 'DEFAULT_REACT_PROMPT' from 'llama_index.core.prompts.default_prompts' (/Users/gamzekecibas/opt/anaconda3/envs/agentenv/lib/python3.9/site-packages/llama_index/core/prompts/default_prompts.py)",
     "output_type": "error",
     "traceback": [
      "\u001b[0;31m---------------------------------------------------------------------------\u001b[0m",
      "\u001b[0;31mImportError\u001b[0m                               Traceback (most recent call last)",
      "Cell \u001b[0;32mIn[4], line 7\u001b[0m\n\u001b[1;32m      4\u001b[0m \u001b[38;5;28;01mfrom\u001b[39;00m \u001b[38;5;21;01msrc\u001b[39;00m\u001b[38;5;21;01m.\u001b[39;00m\u001b[38;5;21;01mtools\u001b[39;00m \u001b[38;5;28;01mimport\u001b[39;00m GuestInfoRetrieverTool\n\u001b[1;32m      6\u001b[0m \u001b[38;5;66;03m# Set up the ReAct agent with a custom prompt to work around tool calling limitations\u001b[39;00m\n\u001b[0;32m----> 7\u001b[0m \u001b[38;5;28;01mfrom\u001b[39;00m \u001b[38;5;21;01mllama_index\u001b[39;00m\u001b[38;5;21;01m.\u001b[39;00m\u001b[38;5;21;01mcore\u001b[39;00m\u001b[38;5;21;01m.\u001b[39;00m\u001b[38;5;21;01mprompts\u001b[39;00m\u001b[38;5;21;01m.\u001b[39;00m\u001b[38;5;21;01mdefault_prompts\u001b[39;00m \u001b[38;5;28;01mimport\u001b[39;00m DEFAULT_REACT_PROMPT\n\u001b[1;32m      9\u001b[0m \u001b[38;5;66;03m# Initialize the guest info retriever tool\u001b[39;00m\n\u001b[1;32m     10\u001b[0m guest_info_retriever \u001b[38;5;241m=\u001b[39m GuestInfoRetrieverTool(docs)\n",
      "\u001b[0;31mImportError\u001b[0m: cannot import name 'DEFAULT_REACT_PROMPT' from 'llama_index.core.prompts.default_prompts' (/Users/gamzekecibas/opt/anaconda3/envs/agentenv/lib/python3.9/site-packages/llama_index/core/prompts/default_prompts.py)"
     ]
    }
   ],
   "source": [
    "from llama_index.core.agent import ReActAgent\n",
    "from llama_index.llms.ollama import Ollama\n",
    "from llama_index.core.tools import FunctionTool, ToolOutput\n",
    "from src.tools import GuestInfoRetrieverTool\n",
    "\n",
    "# Set up the ReAct agent with a custom prompt to work around tool calling limitations\n",
    "from llama_index.core.prompts.default_prompts import DEFAULT_REACT_PROMPT\n",
    "\n",
    "# Initialize the guest info retriever tool\n",
    "guest_info_retriever = GuestInfoRetrieverTool(docs)\n",
    "\n",
    "# Create a proper FunctionTool from the method\n",
    "guest_info_tool = FunctionTool.from_defaults(\n",
    "    fn=guest_info_retriever.get_guest_info,\n",
    "    name=\"guest_info\",\n",
    "    description=\"Retrieve information about guests attending the gala by their name or details\"\n",
    ")\n",
    "\n",
    "# Initialize the LLM which one is available in the local system\n",
    "llm = Ollama(model=\"llama3:latest\")\n",
    "\n",
    "# Create ReAct agent\n",
    "alfred = ReActAgent.from_tools(\n",
    "    [guest_info_tool],\n",
    "    llm=llm,\n",
    "    verbose=True,\n",
    "    system_prompt=(\n",
    "        \"You are Alfred, an attentive and knowledgeable butler at a prestigious gala. \"\n",
    "        \"Your job is to provide information about the guests when asked. \"\n",
    "        \"Use the guest_info tool to retrieve information about guests when needed.\"\n",
    "    ),\n",
    ")\n",
    "\n",
    "# Example query for the gala agent\n",
    "response = await alfred.aquery(\"Tell me about our guest named 'Lady Ada Lovelace'.\")\n",
    "\n",
    "print(\"🎩 Alfred's Response:\")\n",
    "print(response.response)"
   ]
  },
  {
   "cell_type": "code",
   "execution_count": null,
   "metadata": {},
   "outputs": [],
   "source": []
  }
 ],
 "metadata": {
  "kernelspec": {
   "display_name": "agentenv",
   "language": "python",
   "name": "python3"
  },
  "language_info": {
   "codemirror_mode": {
    "name": "ipython",
    "version": 3
   },
   "file_extension": ".py",
   "mimetype": "text/x-python",
   "name": "python",
   "nbconvert_exporter": "python",
   "pygments_lexer": "ipython3",
   "version": "3.9.21"
  }
 },
 "nbformat": 4,
 "nbformat_minor": 2
}
