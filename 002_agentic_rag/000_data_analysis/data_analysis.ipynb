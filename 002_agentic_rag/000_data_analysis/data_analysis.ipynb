{
 "cells": [
  {
   "cell_type": "markdown",
   "metadata": {},
   "source": [
    "## Dataset Overview\n",
    "\n",
    "* **Name:** Guest’s full name\n",
    "* **Relation:** How the guest is related to the host\n",
    "* **Description:** A brief biography or interesting facts about the guest\n",
    "* **Email Address:** Contact information for sending invitations or follow-ups\n",
    "\n",
    "---\n",
    "\n",
    "There are just *3 rows* for a fundamental practice"
   ]
  },
  {
   "cell_type": "code",
   "execution_count": 1,
   "metadata": {},
   "outputs": [],
   "source": [
    "from datasets import load_dataset\n",
    "\n",
    "# Login using e.g. `huggingface-cli login` to access this dataset\n",
    "ds = load_dataset(\"agents-course/unit3-invitees\")"
   ]
  },
  {
   "cell_type": "code",
   "execution_count": 2,
   "metadata": {},
   "outputs": [
    {
     "data": {
      "text/plain": [
       "dict_keys(['train'])"
      ]
     },
     "execution_count": 2,
     "metadata": {},
     "output_type": "execute_result"
    }
   ],
   "source": [
    "ds.keys()"
   ]
  },
  {
   "cell_type": "code",
   "execution_count": 3,
   "metadata": {},
   "outputs": [],
   "source": [
    "train_df = ds['train'].to_pandas()"
   ]
  },
  {
   "cell_type": "code",
   "execution_count": 4,
   "metadata": {},
   "outputs": [
    {
     "data": {
      "text/html": [
       "<div>\n",
       "<style scoped>\n",
       "    .dataframe tbody tr th:only-of-type {\n",
       "        vertical-align: middle;\n",
       "    }\n",
       "\n",
       "    .dataframe tbody tr th {\n",
       "        vertical-align: top;\n",
       "    }\n",
       "\n",
       "    .dataframe thead th {\n",
       "        text-align: right;\n",
       "    }\n",
       "</style>\n",
       "<table border=\"1\" class=\"dataframe\">\n",
       "  <thead>\n",
       "    <tr style=\"text-align: right;\">\n",
       "      <th></th>\n",
       "      <th>name</th>\n",
       "      <th>relation</th>\n",
       "      <th>description</th>\n",
       "      <th>email</th>\n",
       "    </tr>\n",
       "  </thead>\n",
       "  <tbody>\n",
       "    <tr>\n",
       "      <th>0</th>\n",
       "      <td>Ada Lovelace</td>\n",
       "      <td>best friend</td>\n",
       "      <td>Lady Ada Lovelace is my best friend. She is an...</td>\n",
       "      <td>ada.lovelace@example.com</td>\n",
       "    </tr>\n",
       "    <tr>\n",
       "      <th>1</th>\n",
       "      <td>Dr. Nikola Tesla</td>\n",
       "      <td>old friend from university days</td>\n",
       "      <td>Dr. Nikola Tesla is an old friend from your un...</td>\n",
       "      <td>nikola.tesla@gmail.com</td>\n",
       "    </tr>\n",
       "    <tr>\n",
       "      <th>2</th>\n",
       "      <td>Marie Curie</td>\n",
       "      <td>no relation</td>\n",
       "      <td>Marie Curie was a groundbreaking physicist and...</td>\n",
       "      <td>marie.curie@example.com</td>\n",
       "    </tr>\n",
       "  </tbody>\n",
       "</table>\n",
       "</div>"
      ],
      "text/plain": [
       "               name                         relation  \\\n",
       "0      Ada Lovelace                      best friend   \n",
       "1  Dr. Nikola Tesla  old friend from university days   \n",
       "2       Marie Curie                      no relation   \n",
       "\n",
       "                                         description                     email  \n",
       "0  Lady Ada Lovelace is my best friend. She is an...  ada.lovelace@example.com  \n",
       "1  Dr. Nikola Tesla is an old friend from your un...    nikola.tesla@gmail.com  \n",
       "2  Marie Curie was a groundbreaking physicist and...   marie.curie@example.com  "
      ]
     },
     "execution_count": 4,
     "metadata": {},
     "output_type": "execute_result"
    }
   ],
   "source": [
    "train_df.head()"
   ]
  },
  {
   "cell_type": "code",
   "execution_count": 5,
   "metadata": {},
   "outputs": [
    {
     "name": "stdout",
     "output_type": "stream",
     "text": [
      "There are 3 of observations in the set.\n",
      "There are 3 of unique people in the set.\n"
     ]
    }
   ],
   "source": [
    "print(f\"There are {len(train_df)} of observations in the set.\")\n",
    "print(f\"There are {len(train_df['name'].unique())} of unique people in the set.\")"
   ]
  },
  {
   "cell_type": "code",
   "execution_count": null,
   "metadata": {},
   "outputs": [],
   "source": []
  }
 ],
 "metadata": {
  "kernelspec": {
   "display_name": "agentenv",
   "language": "python",
   "name": "python3"
  },
  "language_info": {
   "codemirror_mode": {
    "name": "ipython",
    "version": 3
   },
   "file_extension": ".py",
   "mimetype": "text/x-python",
   "name": "python",
   "nbconvert_exporter": "python",
   "pygments_lexer": "ipython3",
   "version": "3.9.21"
  }
 },
 "nbformat": 4,
 "nbformat_minor": 2
}
